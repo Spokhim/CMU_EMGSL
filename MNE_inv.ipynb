{
 "cells": [
  {
   "cell_type": "markdown",
   "metadata": {},
   "source": [
    "# MNE INV\n",
    "\n",
    "The purpose of this notebook is to see if MNE-Python will play nicely with our current inputs such that we can use it to compute the inverse solution."
   ]
  },
  {
   "cell_type": "code",
   "execution_count": 12,
   "metadata": {},
   "outputs": [],
   "source": [
    "from EMGinv_fns import tmsi_eventextractor, load_tmsi_data, fwd_convertfixed, _apply_inverse_no_reference_check, bone_remover, src_bone_remover, fwd_bone_remover\n",
    "from geometry_utilities import *\n",
    "from plotter_utility_functions import *\n",
    "\n",
    "import mne\n",
    "import mne.minimum_norm.inverse # Sometimes Python / Lazy loading can't find the module, so import explicitly here (required to use _apply_inverse_no_reference_check)\n",
    "import numpy as np\n",
    "import matplotlib.pyplot as plt\n",
    "import os\n",
    "import sys\n",
    "import pandas as pd\n",
    "import scipy.io\n",
    "\n",
    "import pyvistaqt\n",
    "%matplotlib qt"
   ]
  },
  {
   "cell_type": "code",
   "execution_count": 13,
   "metadata": {},
   "outputs": [],
   "source": [
    "# %load_ext autoreload\n",
    "# %autoreload 2"
   ]
  },
  {
   "cell_type": "markdown",
   "metadata": {},
   "source": [
    "# Processing Flags #\n",
    "Set flags/environment-like-variables here, which will be used in rest of the notebook to determine what to process and how."
   ]
  },
  {
   "cell_type": "code",
   "execution_count": 14,
   "metadata": {},
   "outputs": [],
   "source": [
    "NUM_ELECTRODES = 256  # Noting that I only have the 256 eletrode configuration currently.  \n",
    "# ARM = 'left'\n",
    "# NUM_ELECTRODES = 128\n",
    "ARM = 'right'\n",
    "\n",
    "# MIN_DIPOLE_DISTANCE = 7.0 #mm\n",
    "MIN_DIPOLE_DISTANCE = 2.0 #mm\n",
    "\n",
    "SAMPLE_RATE = 2000. # samples per second (from MUAPs file)\n",
    "\n",
    "# MASK_FILE = f'Data/{EXPERIMENT}_muaps_mask.mat'\n",
    "# TEMPLATES_FILE = f'Data/{EXPERIMENT}_muaps_template-{MUAP_ID:02d}.mat'\n",
    "# COVARIANCE_FILE = f'Data/{EXPERIMENT}_muaps_covariance.mat'\n",
    "ARM_DICOM_FILENAME = 'Data/R_Forearm.dcm'\n",
    "\n",
    "ELECTRODES_FILE = f'Data/{NUM_ELECTRODES}simparm_electrode_pos.npy'\n",
    "MNE_FWD_SOLUTIONS_FILE = f'Data/simp_arm_2mm-fwd.fif'\n",
    "# EXTRACT_MUAPS_FROM_MASK = False;\n",
    "\n",
    "# Extra parameters for source inversion\n",
    "FIXED_ORIENT = False # Fixed orientation to be True or False \n",
    "SET_AVG_REF = True # Set average reference to be True or False. MNE-Python recommmends True as a projection, but False is required for a custom reference.  Will also bypass an MNE-Python check.\n",
    "REG_PARAM = 0.05  # MNE-Python recommended are: 0.05 for LCMV Beamformer and 1/9 for the other methods\n",
    "INV_METHOD = 'LCMV' # Options are: 'MNE', 'dSPM', 'eLORETA', 'sLORETA', 'LCMV'\n",
    "LCMV_pick_ori = None # Parameter only for LCMV: None, 'normal', 'max-power', 'vector'\n",
    "LCMV_weight_norm = 'unit-noise-gain-invariant' # Parameter only for LCMV: None, 'unit-noise-gain', 'nai', 'unit-noise-gain-invariant'\n",
    "LCMV_depth = None # Parameter only for LCMV: None, float (None is default).  Normalises the leadfield # https://mne.discourse.group/t/mne-analysis-digest-vol-142-issue-20/2006"
   ]
  },
  {
   "cell_type": "code",
   "execution_count": 15,
   "metadata": {},
   "outputs": [
    {
     "name": "stdout",
     "output_type": "stream",
     "text": [
      "Reading forward solution from /Users/pokhims/Library/CloudStorage/OneDrive-TheUniversityofMelbourne/Documents/Coding/CMU_EMGSL/Data/simp_arm_2mm-fwd.fif...\n",
      "    Reading a source space...\n",
      "    [done]\n",
      "    1 source spaces read\n",
      "    Desired named matrix (kind = 3523 (FIFF_MNE_FORWARD_SOLUTION_GRAD)) not available\n",
      "    Read EEG forward solution (23424 sources, 256 channels, free orientations)\n",
      "    Source spaces transformed to the forward solution coordinate frame\n"
     ]
    }
   ],
   "source": [
    "# Loading source space and forward model generated in MNE-python, see Fwd_BEM_MNE.ipynb\n",
    "# Load electrode positions\n",
    "electrode_pos = np.load(ELECTRODES_FILE)\n",
    "\n",
    "# Load forward model\n",
    "mne_fwd = mne.read_forward_solution(MNE_FWD_SOLUTIONS_FILE)\n",
    "xscaling, yscaling, zscaling = (MIN_DIPOLE_DISTANCE*1e-3, MIN_DIPOLE_DISTANCE*1e-3, MIN_DIPOLE_DISTANCE*1e-3) # Is the distance between dipoles in source space #np.repeat(np.abs(np.sum(np.diff(pos[0], axis = 0))),3)  \n",
    "\n",
    "# Transformations specific to dataset\"\n",
    "# Need to remove some electrodes - get rid of the middle ones\n",
    "electrode_pos = np.vstack((electrode_pos[:64,:], electrode_pos[192:,:]))\n",
    "\n",
    "# Removal of dipole sources - here remove sources lying within cylinders representing bone - it may be preferable to generate a fwd model with the sources removed in Fwd_BEM_MNE.ipynb instead\n",
    "mne_fwd = fwd_bone_remover(mne_fwd, -9e-3, 0, 5e-3, inplace=False) # Ulnar\n",
    "mne_fwd = fwd_bone_remover(mne_fwd, 5e-3, -9e-3, 5e-3, inplace=False) # Radius\n",
    "pos  = mne_fwd['source_rr'] \n",
    "\n",
    "# Condense the fwd such that there is only one dipole per voxel\n",
    "# If want to specify what orientation this is, need to adjust what is defined as the normal in the source space object for each source location. \n",
    "# E.g. mne_fwd['src'][0]['nn'] = np.tile(np.array([0,0,1]), (mne_fwd['src'][0]['nn'].shape[0],1))\n",
    "if FIXED_ORIENT:\n",
    "    mne.convert_forward_solution(mne_fwd, surf_ori=True, force_fixed=True, use_cps=False, copy=False)"
   ]
  },
  {
   "cell_type": "code",
   "execution_count": 16,
   "metadata": {},
   "outputs": [],
   "source": [
    "def load_tmsitomne_combine(f_prox=None, f_dist=None, scale=1e-6):\n",
    "    \"\"\" Combines the distal and proximal datasets from TMSI together into one MNE object.\n",
    "    \n",
    "    Parameters: \n",
    "    - f_prox (str): the path to the proximal file to be loaded.\n",
    "    - f_dist (str): the path to the distal file to be loaded.\n",
    "    - scale (float): the scaling factor.  By default it will convert the data from uV to V.\n",
    "\n",
    "    Returns:\n",
    "    - MNE_raw (MNE raw object): the combined MNE object.\n",
    "    \"\"\"\n",
    "    if f_prox is None:\n",
    "        f_prox = 'Data/Pok_2024_08_21_A_PROX_8.poly5'\n",
    "    if f_dist is None:\n",
    "        f_dist = 'Data/Pok_2024_08_21_B_DIST_8.poly5' \n",
    "\n",
    "    prox = load_tmsi_data(filename=f_prox)\n",
    "    dist = load_tmsi_data(filename=f_dist)      \n",
    "    # ch_names = [\"Prox - \" + s for s in prox[1]] + [\"Dist - \" + s for s in dist[1]]\n",
    "    # Need to make sure the ch_names between the fwd and dataset are aligned.\n",
    "    ch_names = mne_fwd.ch_names[:64] + ['Prox - AUX 1-1', 'Prox - AUX 1-2', 'Prox - AUX 1-3','Prox - TRIGGERS', 'Prox - STATUS', 'Prox - COUNTER',] +  mne_fwd.ch_names[-64:] + ['Dist - TRIGGERS', 'Dist - STATUS', 'Dist - COUNTER']\n",
    "    fs = prox[2]\n",
    "    ch_types = ['eeg']*64 + ['misc']*(len(prox[1])-64) + ['eeg']*64 + ['misc']*(len(dist[1])-64)\n",
    "\n",
    "    num_channels = len(ch_names)\n",
    "    dist_sec = np.where(dist[0][-3,:]==254)[0]\n",
    "    prox_sec = np.where(prox[0][-3,:]==254)[0]\n",
    "\n",
    "    dist_sample = dist[0][:, dist_sec[0]:dist_sec[-1]]\n",
    "    prox_sample = prox[0][:, prox_sec[0]:prox_sec[-1]]\n",
    "\n",
    "    # Scale the data channels\n",
    "    dist_sample[:64] = dist_sample[:64]*scale\n",
    "    prox_sample[:64] = prox_sample[:64]*scale\n",
    "\n",
    "    del dist, prox\n",
    "    # Create MNE raw object\n",
    "    info = mne.create_info(ch_names, fs, ch_types)\n",
    "    # The lengths of the two datasets are stil off, so remove some samples, still misaligned slightly\n",
    "    MNE_raw = mne.io.RawArray(np.concatenate((prox_sample[:,1:-1], dist_sample), axis=0), info)\n",
    "\n",
    "    return MNE_raw"
   ]
  },
  {
   "cell_type": "code",
   "execution_count": 17,
   "metadata": {},
   "outputs": [
    {
     "name": "stdout",
     "output_type": "stream",
     "text": [
      "Reading file  Data/Pok_2024_08_21_A_PROX_8.poly5\n",
      "\t Number of samples:  892710 \n",
      "\t Number of channels:  70 \n",
      "\t Sample rate: 4000 Hz\n",
      "Done reading data.\n",
      "Creating RawArray with float64 data, n_channels=70, n_times=892710\n",
      "    Range : 0 ... 892709 =      0.000 ...   223.177 secs\n",
      "Ready.\n",
      "Sample rate:  4000  Hz\n",
      "Channel names:  ['UNI 01', 'UNI 02', 'UNI 03', 'UNI 04', 'UNI 05', 'UNI 06', 'UNI 07', 'UNI 08', 'UNI 09', 'UNI 10', 'UNI 11', 'UNI 12', 'UNI 13', 'UNI 14', 'UNI 15', 'UNI 16', 'UNI 17', 'UNI 18', 'UNI 19', 'UNI 20', 'UNI 21', 'UNI 22', 'UNI 23', 'UNI 24', 'UNI 25', 'UNI 26', 'UNI 27', 'UNI 28', 'UNI 29', 'UNI 30', 'UNI 31', 'UNI 32', 'UNI 33', 'UNI 34', 'UNI 35', 'UNI 36', 'UNI 37', 'UNI 38', 'UNI 39', 'UNI 40', 'UNI 41', 'UNI 42', 'UNI 43', 'UNI 44', 'UNI 45', 'UNI 46', 'UNI 47', 'UNI 48', 'UNI 49', 'UNI 50', 'UNI 51', 'UNI 52', 'UNI 53', 'UNI 54', 'UNI 55', 'UNI 56', 'UNI 57', 'UNI 58', 'UNI 59', 'UNI 60', 'UNI 61', 'UNI 62', 'UNI 63', 'UNI 64', 'AUX 1-1', 'AUX 1-2', 'AUX 1-3', 'TRIGGERS', 'STATUS', 'COUNTER']\n",
      "Shape samples:  (70, 892710)\n",
      "Reading file  Data/Pok_2024_08_21_B_DIST_8.poly5\n",
      "\t Number of samples:  892674 \n",
      "\t Number of channels:  67 \n",
      "\t Sample rate: 4000 Hz\n",
      "Done reading data.\n",
      "Creating RawArray with float64 data, n_channels=67, n_times=892674\n",
      "    Range : 0 ... 892673 =      0.000 ...   223.168 secs\n",
      "Ready.\n",
      "Sample rate:  4000  Hz\n",
      "Channel names:  ['UNI 01', 'UNI 02', 'UNI 03', 'UNI 04', 'UNI 05', 'UNI 06', 'UNI 07', 'UNI 08', 'UNI 09', 'UNI 10', 'UNI 11', 'UNI 12', 'UNI 13', 'UNI 14', 'UNI 15', 'UNI 16', 'UNI 17', 'UNI 18', 'UNI 19', 'UNI 20', 'UNI 21', 'UNI 22', 'UNI 23', 'UNI 24', 'UNI 25', 'UNI 26', 'UNI 27', 'UNI 28', 'UNI 29', 'UNI 30', 'UNI 31', 'UNI 32', 'UNI 33', 'UNI 34', 'UNI 35', 'UNI 36', 'UNI 37', 'UNI 38', 'UNI 39', 'UNI 40', 'UNI 41', 'UNI 42', 'UNI 43', 'UNI 44', 'UNI 45', 'UNI 46', 'UNI 47', 'UNI 48', 'UNI 49', 'UNI 50', 'UNI 51', 'UNI 52', 'UNI 53', 'UNI 54', 'UNI 55', 'UNI 56', 'UNI 57', 'UNI 58', 'UNI 59', 'UNI 60', 'UNI 61', 'UNI 62', 'UNI 63', 'UNI 64', 'TRIGGERS', 'STATUS', 'COUNTER']\n",
      "Shape samples:  (67, 892674)\n",
      "Creating RawArray with float64 data, n_channels=137, n_times=823701\n",
      "    Range : 0 ... 823700 =      0.000 ...   205.925 secs\n",
      "Ready.\n"
     ]
    }
   ],
   "source": [
    "# Load some data - to construct covariance matrices\n",
    "MNE_raw = load_tmsitomne_combine(f_prox = 'Data/Pok_2024_08_21_A_PROX_8.poly5', f_dist='Data/Pok_2024_08_21_B_DIST_8.poly5', scale=1e-6)"
   ]
  },
  {
   "cell_type": "code",
   "execution_count": 18,
   "metadata": {},
   "outputs": [
    {
     "name": "stdout",
     "output_type": "stream",
     "text": [
      "Filtering raw data in 1 contiguous segment\n",
      "Setting up high-pass filter at 1e+02 Hz\n",
      "\n",
      "FIR filter parameters\n",
      "---------------------\n",
      "Designing a one-pass, zero-phase, non-causal highpass filter:\n",
      "- Windowed time-domain design (firwin) method\n",
      "- Hamming window with 0.0194 passband ripple and 53 dB stopband attenuation\n",
      "- Lower passband edge: 100.00\n",
      "- Lower transition bandwidth: 25.00 Hz (-6 dB cutoff frequency: 87.50 Hz)\n",
      "- Filter length: 529 samples (0.132 s)\n",
      "\n"
     ]
    },
    {
     "name": "stderr",
     "output_type": "stream",
     "text": [
      "[Parallel(n_jobs=1)]: Done  17 tasks      | elapsed:    0.2s\n",
      "[Parallel(n_jobs=1)]: Done  71 tasks      | elapsed:    0.9s\n"
     ]
    },
    {
     "name": "stdout",
     "output_type": "stream",
     "text": [
      "Not setting metadata\n",
      "20 matching events found\n",
      "No baseline correction applied\n",
      "0 projection items activated\n",
      "Using data from preloaded Raw for 20 events and 32001 original time points ...\n",
      "0 bad epochs dropped\n",
      "Reducing data rank from 128 -> 128\n",
      "Estimating covariance using SHRUNK\n",
      "Done.\n",
      "Estimating covariance using DIAGONAL_FIXED\n",
      "    EEG regularization : 0.1\n",
      "Done.\n",
      "Estimating covariance using EMPIRICAL\n",
      "Done.\n",
      "Using cross-validation to select the best estimator.\n",
      "    EEG regularization : 0.1\n",
      "    EEG regularization : 0.1\n",
      "    EEG regularization : 0.1\n",
      "Number of samples used : 160820\n",
      "log-likelihood on unseen data (descending order):\n",
      "   empirical: -305.882\n",
      "   shrunk: -306.103\n",
      "   diagonal_fixed: -313.113\n",
      "selecting best estimator: empirical\n",
      "[done]\n",
      "Reducing data rank from 128 -> 128\n",
      "Estimating covariance using SHRUNK\n",
      "Done.\n",
      "Estimating covariance using DIAGONAL_FIXED\n",
      "    EEG regularization : 0.1\n",
      "Done.\n",
      "Estimating covariance using EMPIRICAL\n",
      "Done.\n",
      "Using cross-validation to select the best estimator.\n",
      "    EEG regularization : 0.1\n",
      "    EEG regularization : 0.1\n",
      "    EEG regularization : 0.1\n",
      "Number of samples used : 240020\n",
      "log-likelihood on unseen data (descending order):\n",
      "   empirical: -333.415\n",
      "   shrunk: -333.998\n",
      "   diagonal_fixed: -343.884\n",
      "selecting best estimator: empirical\n",
      "[done]\n",
      "Computing rank from covariance with rank=None\n",
      "    Using tolerance 1.7e-13 (2.2e-16 eps * 128 dim * 5.9  max singular value)\n",
      "    Estimated rank (eeg): 128\n",
      "    EEG: rank 128 computed from 128 data channels with 0 projectors\n",
      "Computing rank from covariance with rank=None\n",
      "    Using tolerance 3.6e-13 (2.2e-16 eps * 128 dim * 13  max singular value)\n",
      "    Estimated rank (eeg): 128\n",
      "    EEG: rank 128 computed from 128 data channels with 0 projectors\n"
     ]
    },
    {
     "data": {
      "text/plain": [
       "(<Figure size 380x370 with 2 Axes>, <Figure size 380x370 with 1 Axes>)"
      ]
     },
     "execution_count": 18,
     "metadata": {},
     "output_type": "execute_result"
    }
   ],
   "source": [
    "# Important to filter the data (highpass filter)\n",
    "MNE_raw = MNE_raw.filter(l_freq=100, h_freq=None, )\n",
    "# Estimate the noise covariance matrix on Epoched data.  This means that the noise covariance will be estimated on pre-stimulus periods\n",
    "channel_data = MNE_raw['Prox - TRIGGERS'][0][0]-252\n",
    "events = tmsi_eventextractor(channel_data)\n",
    "event_dict = {'Ext': -2, 'Flex': -6} # Should be correct \n",
    "epochs = mne.Epochs(MNE_raw, events, event_dict, tmin=-4, tmax=4, baseline=None, preload=True)\n",
    "# Consider setting an average EEG reference across each panel of 32. \n",
    "# epochs.set_eeg_reference('average', projection=True)\n",
    "# epochs.apply_proj()\n",
    "# epochs.plot(n_epochs=1, scalings='auto', );\n",
    "\n",
    "# Set tmin and tmax based on experimental conditions.  In this case, the participant was not moving perfectly to the triggers.\n",
    "noise_cov = mne.compute_covariance(epochs, method='auto', tmin=-2, tmax=0.01)\n",
    "data_cov = mne.compute_covariance(epochs, method='auto', tmin=1, tmax=epochs.tmax)\n",
    "\n",
    "noise_cov.plot(epochs.info,)\n",
    "data_cov.plot(epochs.info,)"
   ]
  },
  {
   "cell_type": "code",
   "execution_count": 19,
   "metadata": {},
   "outputs": [],
   "source": [
    "# Sample waveforms to play with - Replace this cell with the time series array of the EMG data\n",
    "\n",
    "# Alternative to muaps_from matlab.mat - Load the mask, and then extract from the relevant EMG channels in MNE_raw\n",
    "filename = '/Users/pokhims/Library/CloudStorage/OneDrive-TheUniversityofMelbourne/Documents/Coding/CMU_EMGSL/Data/muaps_mask.mat'\n",
    "mask = scipy.io.loadmat(filename)['mask']\n",
    "# Not sure why some of the masks aren't in the data - and why the end result is so different\n",
    "mask = mask[:-2, :]\n",
    "data = MNE_raw.get_data(picks='data')\n",
    "# Need to get component for all channels\n",
    "muaps = np.zeros((128,41))\n",
    "for i in range(128):\n",
    "    tmp = data[i,:]\n",
    "    snips = tmp[mask]\n",
    "    muaps[i,:] = np.mean(snips, axis=0)\n",
    "\n",
    "# Another alternative to the data\n",
    "ext_1 = epochs.get_data(picks='data')[0,:,25030:25070]\n",
    "flex_1 = epochs.get_data(picks='data')[0,:,26670:26710]\n",
    "\n",
    "# Specify the waveform to be used\n",
    "waveform = ext_1"
   ]
  },
  {
   "cell_type": "code",
   "execution_count": 20,
   "metadata": {},
   "outputs": [
    {
     "name": "stdout",
     "output_type": "stream",
     "text": [
      "EEG channel type selected for re-referencing\n",
      "Adding average EEG reference projection.\n",
      "1 projection items deactivated\n",
      "Average reference projection was added, but has not been applied yet. Use the apply_proj method to apply it.\n"
     ]
    }
   ],
   "source": [
    "# Load the waveform into an MNE Evoked Object - Typically evoked data is averaged over multiple trials, but this is not a strict resitriction.  \n",
    "# Likely do the pre-processing as you please before using MNE. \n",
    "\n",
    "# info = mne.create_info(ch_names, fs, ch_types) # If you need to create info object from scratch, here is a hint\n",
    "\n",
    "# Modify info object to only include data channels\n",
    "datach_indices = mne.pick_types(epochs.info, eeg=True, )\n",
    "info = mne.pick_info(epochs.info, datach_indices, copy=True)\n",
    "evoked = mne.EvokedArray(waveform, info)\n",
    "\n",
    "# MNE Python requires the use of an average reference to be set using it's projectors to do source inversion\n",
    "if SET_AVG_REF:\n",
    "    evoked.set_eeg_reference('average', projection=True)"
   ]
  },
  {
   "cell_type": "code",
   "execution_count": 21,
   "metadata": {},
   "outputs": [
    {
     "name": "stdout",
     "output_type": "stream",
     "text": [
      "Computing rank from covariance with rank=None\n",
      "    Using tolerance 3.6e-13 (2.2e-16 eps * 128 dim * 13  max singular value)\n",
      "    Estimated rank (eeg): 127\n",
      "    EEG: rank 127 computed from 128 data channels with 1 projector\n",
      "Computing rank from covariance with rank=None\n",
      "    Using tolerance 1.7e-13 (2.2e-16 eps * 128 dim * 5.9  max singular value)\n",
      "    Estimated rank (eeg): 127\n",
      "    EEG: rank 127 computed from 128 data channels with 1 projector\n",
      "Making LCMV beamformer with rank {'eeg': 127}\n",
      "Computing inverse operator with 128 channels.\n",
      "    128 out of 256 channels remain after picking\n",
      "Selected 128 channels\n",
      "Whitening the forward solution.\n",
      "    Created an SSP operator (subspace dimension = 1)\n",
      "Computing rank from covariance with rank={'eeg': 127}\n",
      "    Setting small EEG eigenvalues to zero (without PCA)\n",
      "Creating the source covariance matrix\n",
      "Adjusting source covariance matrix.\n",
      "Computing beamformer filters for 20654 sources\n",
      "Filter computation complete\n",
      "combining the current components...\n"
     ]
    }
   ],
   "source": [
    "if INV_METHOD == 'LCMV':\n",
    "    filters = mne.beamformer.make_lcmv(\n",
    "        evoked.info,\n",
    "        mne_fwd,\n",
    "        data_cov,\n",
    "        reg=REG_PARAM,\n",
    "        noise_cov=noise_cov,\n",
    "        pick_ori=LCMV_pick_ori,\n",
    "        weight_norm=LCMV_weight_norm,\n",
    "        depth=LCMV_depth,\n",
    "        rank=None,\n",
    "    )\n",
    "    stc_est_region = mne.beamformer.apply_lcmv(evoked, filters)\n",
    "\n",
    "else:\n",
    "    if SET_AVG_REF:\n",
    "        # If data is already referenced, and do not want to use average, will need to replace MNE inverse function with a custom function to bypass this reference check in the inversion step. \n",
    "        mne.minimum_norm.inverse._apply_inverse = _apply_inverse_no_reference_check\n",
    "    inverse_operator = mne.minimum_norm.make_inverse_operator(evoked.info, mne_fwd, noise_cov, loose='auto', depth=None, fixed=FIXED_ORIENT) \n",
    "    stc_est_region = mne.minimum_norm.apply_inverse(evoked, inverse_operator, REG_PARAM, INV_METHOD, pick_ori=None)"
   ]
  },
  {
   "cell_type": "code",
   "execution_count": 22,
   "metadata": {},
   "outputs": [
    {
     "data": {
      "text/plain": [
       "Text(0.5, 0.92, '256-Channel 61962-LCMV Method')"
      ]
     },
     "execution_count": 22,
     "metadata": {},
     "output_type": "execute_result"
    }
   ],
   "source": [
    "# Graph using our functions\n",
    "\n",
    "# Threshold\n",
    "thresh = 0.5\n",
    "# Look at specific timepoint in the source activity:\n",
    "t = 4\n",
    "\n",
    "source_activity = stc_est_region.data[:, t]\n",
    "\n",
    "# Reshape source activity to condense N source orientations into 1 per voxel - Confirmed works for 3 orientations, should work for more.\n",
    "reshape_by = source_activity.shape[0] // pos.shape[0]\n",
    "reshaped_act = np.array(source_activity.reshape((reshape_by, -1), order='F'))\n",
    "source_activity = np.linalg.norm(reshaped_act, axis=0)\n",
    "\n",
    "ind = np.abs(source_activity) > thresh*np.max(np.abs(source_activity))\n",
    "source_activity = source_activity[ind]\n",
    "pos_t = pos[ind]\n",
    "\n",
    "# Plot the convex hull and the moved points\n",
    "fig = plt.figure()\n",
    "ax = fig.add_subplot(111, projection='3d')\n",
    "# Plot electrode positions\n",
    "ax.scatter(electrode_pos[:, 0], electrode_pos[:, 1], electrode_pos[:, 2], c=waveform[:,t], marker='o', alpha=0.2, cmap='turbo')\n",
    "# Plot the source space\n",
    "ax.scatter(pos_t[:, 0], pos_t[:, 1], pos_t[:, 2], c=source_activity, marker='s', alpha=0.8, cmap='viridis')\n",
    "# Set labels\n",
    "ax.set_xlabel('X Axis (m)')\n",
    "ax.set_ylabel('Y Axis (m)')\n",
    "ax.set_zlabel('Z Axis (m)')\n",
    "n_channels, n_sources = mne_fwd['sol']['data'].shape\n",
    "ax.set_title(f'{n_channels}-Channel {n_sources}-{INV_METHOD} Method')\n",
    "\n",
    "# # Save the figure to a file in the created folder\n",
    "# plt.savefig(f'{save_dir}/{EXPERIMENT}_3D-T{t}.png', dpi=300)"
   ]
  }
 ],
 "metadata": {
  "kernelspec": {
   "display_name": "neuro",
   "language": "python",
   "name": "neuro"
  },
  "language_info": {
   "codemirror_mode": {
    "name": "ipython",
    "version": 3
   },
   "file_extension": ".py",
   "mimetype": "text/x-python",
   "name": "python",
   "nbconvert_exporter": "python",
   "pygments_lexer": "ipython3",
   "version": "3.10.10"
  }
 },
 "nbformat": 4,
 "nbformat_minor": 2
}
