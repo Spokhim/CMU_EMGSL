{
 "cells": [
  {
   "cell_type": "markdown",
   "metadata": {},
   "source": [
    "This notebook is to demonstrate the pipeline for EMG source inversion."
   ]
  },
  {
   "cell_type": "code",
   "execution_count": 4,
   "metadata": {},
   "outputs": [
    {
     "name": "stdout",
     "output_type": "stream",
     "text": [
      "The autoreload extension is already loaded. To reload it, use:\n",
      "  %reload_ext autoreload\n"
     ]
    }
   ],
   "source": [
    "from scipy.constants import epsilon_0\n",
    "import numpy as np\n",
    "import matplotlib.pyplot as plt\n",
    "from scipy.special import kv as K0, iv as I0\n",
    "from scipy.linalg import solve, pinv, svd\n",
    "\n",
    "from EMGinv_fns import *\n",
    "\n",
    "from mpl_toolkits.mplot3d import Axes3D\n",
    "from scipy.spatial import ConvexHull, Delaunay\n",
    "from scipy.optimize import minimize\n",
    "\n",
    "import pandas as pd\n",
    "import scipy.io\n",
    "import mat73\n",
    "from pathlib import Path\n",
    "import shutil\n",
    "import os.path as op\n",
    "import mne\n",
    "\n",
    "import gc\n",
    "import matplotlib.animation as animation\n",
    "import pydicom\n",
    "\n",
    "# Remove magic commands if turning into a script\n",
    "import pyvistaqt\n",
    "%matplotlib qt\n",
    "%load_ext autoreload\n",
    "%autoreload 2"
   ]
  },
  {
   "cell_type": "code",
   "execution_count": 5,
   "metadata": {},
   "outputs": [
    {
     "name": "stdout",
     "output_type": "stream",
     "text": [
      "Reading forward solution from /Users/pokhims/Library/CloudStorage/OneDrive-TheUniversityofMelbourne/Documents/Coding/CMU_EMGSL/Data/simp_arm_2mm-fwd.fif...\n",
      "    Reading a source space...\n",
      "    [done]\n",
      "    1 source spaces read\n",
      "    Desired named matrix (kind = 3523 (FIFF_MNE_FORWARD_SOLUTION_GRAD)) not available\n",
      "    Read EEG forward solution (24844 sources, 256 channels, free orientations)\n",
      "    Source spaces transformed to the forward solution coordinate frame\n"
     ]
    }
   ],
   "source": [
    "# Loading source space and forward model generated in MNE-python, see Fwd_BEM_MNE.ipynb\n",
    "\n",
    "# Load electrode positions\n",
    "electrode_pos = np.load('Data/256simparm_electrode_pos.npy')\n",
    "\n",
    "# Load forward model\n",
    "mne_fwd = mne.read_forward_solution('Data/simp_arm_2mm-fwd.fif')\n",
    "fwd = mne_fwd['sol']['data']\n",
    "pos = mne_fwd['source_rr'] \n",
    "\n",
    "xscaling, yscaling, zscaling = (2e-3, 2e-3, 2e-3) # Is the distance between dipoles in source space #np.repeat(np.abs(np.sum(np.diff(pos[0], axis = 0))),3)  \n",
    "\n",
    "# Transformations specific to dataset\n",
    "# Need to remove some electrodes - get rid of the middle ones\n",
    "fwd = np.vstack((fwd[:64,:], fwd[192:,:]))\n",
    "electrode_pos = np.vstack((electrode_pos[:64,:], electrode_pos[192:,:]))\n",
    "# Adjust axes as it was saved in [\"X\", \"Z\", \"Y\"]\n",
    "electrode_pos = electrode_pos[:,[0,2,1]]\n",
    "pos = pos[:,[0,2,1]]\n",
    "\n",
    "# Removal of dipole sources - here remove sources lying within cylinders representing bone\n",
    "pos, fwd = bone_remover(pos, fwd, -9e-3, 0, 5e-3) #Ulnar\n",
    "pos, fwd = bone_remover(pos, fwd, 5e-3, -9e-3, 5e-3) # Radius\n",
    "\n",
    "# Consider fwd model adjustments\n",
    "# Condense the fwd such that there is only one dipole per voxel\n",
    "dipole_ori = [0, 0, 1]\n",
    "fwd = fwd_convertfixed(fwd, dipole_ori )"
   ]
  },
  {
   "cell_type": "code",
   "execution_count": 6,
   "metadata": {},
   "outputs": [],
   "source": [
    "# Alternative: Loading source space and forward model generated from (MRI) image data\n",
    "# # Load electrode positions\n",
    "# electrode_pos = np.load('electrode_pos.npy')\n",
    "\n",
    "# # Load source space \n",
    "# xscaling, yscaling, zscaling = 1.5e-4, 1.5e-4, 0.5e-2\n",
    "# pos = load_src_template(filename=None, xscaling=xscaling, yscaling=yscaling, zscaling=zscaling)\n",
    "\n",
    "# # Load forward model\n",
    "# fwd = np.load('Data/fwd_dipole.npy')\n",
    "# # Alternative would be to generate with\n",
    "# # fwd = fwd_generator(dipole_potential, pos, electrode_positions)\n",
    "# # And then saving with np.save('fwd_dipole.npy', fwd) - Very big file\n",
    "\n",
    "# # Consider fwd model adjustments\n",
    "# # Condense the fwd such that there is only one dipole per voxel\n",
    "# dipole_ori = [0, 0, 1]\n",
    "# fwd = fwd_convertfixed(fwd, dipole_ori )\n",
    "\n",
    "# # Adjust the fwd to remove some outliers\n",
    "# # fwd[fwd>1e15] = 1e15\n",
    "# # fwd = np.log10(fwd+1)  # this doesn't preserve sign\n",
    "# fwd[np.isnan(fwd)] = 0 # for any nans"
   ]
  },
  {
   "cell_type": "code",
   "execution_count": 7,
   "metadata": {},
   "outputs": [
    {
     "name": "stdout",
     "output_type": "stream",
     "text": [
      "Reading file  Data/Pok_2024_08_21_A_PROX_8.poly5\n",
      "\t Number of samples:  892710 \n",
      "\t Number of channels:  70 \n",
      "\t Sample rate: 4000 Hz\n",
      "Done reading data.\n",
      "Creating RawArray with float64 data, n_channels=70, n_times=892710\n",
      "    Range : 0 ... 892709 =      0.000 ...   223.177 secs\n",
      "Ready.\n",
      "Sample rate:  4000  Hz\n",
      "Channel names:  ['UNI 01', 'UNI 02', 'UNI 03', 'UNI 04', 'UNI 05', 'UNI 06', 'UNI 07', 'UNI 08', 'UNI 09', 'UNI 10', 'UNI 11', 'UNI 12', 'UNI 13', 'UNI 14', 'UNI 15', 'UNI 16', 'UNI 17', 'UNI 18', 'UNI 19', 'UNI 20', 'UNI 21', 'UNI 22', 'UNI 23', 'UNI 24', 'UNI 25', 'UNI 26', 'UNI 27', 'UNI 28', 'UNI 29', 'UNI 30', 'UNI 31', 'UNI 32', 'UNI 33', 'UNI 34', 'UNI 35', 'UNI 36', 'UNI 37', 'UNI 38', 'UNI 39', 'UNI 40', 'UNI 41', 'UNI 42', 'UNI 43', 'UNI 44', 'UNI 45', 'UNI 46', 'UNI 47', 'UNI 48', 'UNI 49', 'UNI 50', 'UNI 51', 'UNI 52', 'UNI 53', 'UNI 54', 'UNI 55', 'UNI 56', 'UNI 57', 'UNI 58', 'UNI 59', 'UNI 60', 'UNI 61', 'UNI 62', 'UNI 63', 'UNI 64', 'AUX 1-1', 'AUX 1-2', 'AUX 1-3', 'TRIGGERS', 'STATUS', 'COUNTER']\n",
      "Shape samples:  (70, 892710)\n",
      "Reading file  Data/Pok_2024_08_21_B_DIST_8.poly5\n",
      "\t Number of samples:  892674 \n",
      "\t Number of channels:  67 \n",
      "\t Sample rate: 4000 Hz\n",
      "Done reading data.\n",
      "Creating RawArray with float64 data, n_channels=67, n_times=892674\n",
      "    Range : 0 ... 892673 =      0.000 ...   223.168 secs\n",
      "Ready.\n",
      "Sample rate:  4000  Hz\n",
      "Channel names:  ['UNI 01', 'UNI 02', 'UNI 03', 'UNI 04', 'UNI 05', 'UNI 06', 'UNI 07', 'UNI 08', 'UNI 09', 'UNI 10', 'UNI 11', 'UNI 12', 'UNI 13', 'UNI 14', 'UNI 15', 'UNI 16', 'UNI 17', 'UNI 18', 'UNI 19', 'UNI 20', 'UNI 21', 'UNI 22', 'UNI 23', 'UNI 24', 'UNI 25', 'UNI 26', 'UNI 27', 'UNI 28', 'UNI 29', 'UNI 30', 'UNI 31', 'UNI 32', 'UNI 33', 'UNI 34', 'UNI 35', 'UNI 36', 'UNI 37', 'UNI 38', 'UNI 39', 'UNI 40', 'UNI 41', 'UNI 42', 'UNI 43', 'UNI 44', 'UNI 45', 'UNI 46', 'UNI 47', 'UNI 48', 'UNI 49', 'UNI 50', 'UNI 51', 'UNI 52', 'UNI 53', 'UNI 54', 'UNI 55', 'UNI 56', 'UNI 57', 'UNI 58', 'UNI 59', 'UNI 60', 'UNI 61', 'UNI 62', 'UNI 63', 'UNI 64', 'TRIGGERS', 'STATUS', 'COUNTER']\n",
      "Shape samples:  (67, 892674)\n",
      "Creating RawArray with float64 data, n_channels=137, n_times=823701\n",
      "    Range : 0 ... 823700 =      0.000 ...   205.925 secs\n",
      "Ready.\n"
     ]
    }
   ],
   "source": [
    "# Load muap template waveforms \n",
    "# filename = '/Users/pokhims/Library/CloudStorage/OneDrive-TheUniversityofMelbourne/Documents/Coding/CMU_EMGSL/Data/muaps_frommatlab.mat'\n",
    "# muaps_1 = scipy.io.loadmat(filename)['muaps']\n",
    "\n",
    "# Load some data - to construct covariance matrices\n",
    "MNE_raw = load_tmsitomne_combine(f_prox = 'Data/Pok_2024_08_21_A_PROX_8.poly5', f_dist='Data/Pok_2024_08_21_B_DIST_8.poly5', scale=1e-6)"
   ]
  },
  {
   "cell_type": "code",
   "execution_count": 8,
   "metadata": {},
   "outputs": [
    {
     "name": "stdout",
     "output_type": "stream",
     "text": [
      "Filtering raw data in 1 contiguous segment\n",
      "Setting up high-pass filter at 1e+02 Hz\n",
      "\n",
      "FIR filter parameters\n",
      "---------------------\n",
      "Designing a one-pass, zero-phase, non-causal highpass filter:\n",
      "- Windowed time-domain design (firwin) method\n",
      "- Hamming window with 0.0194 passband ripple and 53 dB stopband attenuation\n",
      "- Lower passband edge: 100.00\n",
      "- Lower transition bandwidth: 25.00 Hz (-6 dB cutoff frequency: 87.50 Hz)\n",
      "- Filter length: 529 samples (0.132 s)\n",
      "\n"
     ]
    },
    {
     "name": "stderr",
     "output_type": "stream",
     "text": [
      "[Parallel(n_jobs=1)]: Done  17 tasks      | elapsed:    0.2s\n",
      "[Parallel(n_jobs=1)]: Done  71 tasks      | elapsed:    0.8s\n"
     ]
    },
    {
     "name": "stdout",
     "output_type": "stream",
     "text": [
      "Not setting metadata\n",
      "20 matching events found\n",
      "No baseline correction applied\n",
      "0 projection items activated\n",
      "Using data from preloaded Raw for 20 events and 32001 original time points ...\n",
      "0 bad epochs dropped\n",
      "Reducing data rank from 128 -> 128\n",
      "Estimating covariance using SHRUNK\n",
      "Done.\n",
      "Estimating covariance using DIAGONAL_FIXED\n",
      "    EEG regularization : 0.1\n",
      "Done.\n",
      "Estimating covariance using EMPIRICAL\n",
      "Done.\n",
      "Using cross-validation to select the best estimator.\n",
      "    EEG regularization : 0.1\n",
      "    EEG regularization : 0.1\n",
      "    EEG regularization : 0.1\n",
      "Number of samples used : 160820\n",
      "log-likelihood on unseen data (descending order):\n",
      "   empirical: -305.882\n",
      "   shrunk: -306.103\n",
      "   diagonal_fixed: -313.113\n",
      "selecting best estimator: empirical\n",
      "[done]\n",
      "Reducing data rank from 128 -> 128\n",
      "Estimating covariance using SHRUNK\n",
      "Done.\n",
      "Estimating covariance using DIAGONAL_FIXED\n",
      "    EEG regularization : 0.1\n",
      "Done.\n",
      "Estimating covariance using EMPIRICAL\n",
      "Done.\n",
      "Using cross-validation to select the best estimator.\n",
      "    EEG regularization : 0.1\n",
      "    EEG regularization : 0.1\n",
      "    EEG regularization : 0.1\n",
      "Number of samples used : 240020\n",
      "log-likelihood on unseen data (descending order):\n",
      "   empirical: -333.415\n",
      "   shrunk: -333.998\n",
      "   diagonal_fixed: -343.884\n",
      "selecting best estimator: empirical\n",
      "[done]\n",
      "Computing rank from covariance with rank=None\n",
      "    Using tolerance 1.7e-13 (2.2e-16 eps * 128 dim * 5.9  max singular value)\n",
      "    Estimated rank (eeg): 128\n",
      "    EEG: rank 128 computed from 128 data channels with 0 projectors\n",
      "Computing rank from covariance with rank=None\n",
      "    Using tolerance 3.6e-13 (2.2e-16 eps * 128 dim * 13  max singular value)\n",
      "    Estimated rank (eeg): 128\n",
      "    EEG: rank 128 computed from 128 data channels with 0 projectors\n"
     ]
    }
   ],
   "source": [
    "# Important to filter the data (highpass filter)\n",
    "MNE_raw = MNE_raw.filter(l_freq=100, h_freq=None, )\n",
    "# Estimate the noise covariance matrix on Epoched data.  This means that the noise covariance will be estimated on pre-stimulus periods\n",
    "channel_data = MNE_raw['Prox - TRIGGERS'][0][0]-252\n",
    "events = tmsi_eventextractor(channel_data)\n",
    "event_dict = {'Ext': -2, 'Flex': -6} # Should be correct \n",
    "epochs = mne.Epochs(MNE_raw, events, event_dict, tmin=-4, tmax=4, baseline=None, preload=True)\n",
    "# Consider setting an average EEG reference across each panel of 32. \n",
    "# epochs.set_eeg_reference('average', projection=True)\n",
    "# epochs.apply_proj()\n",
    "# epochs.plot(n_epochs=1, scalings='auto', );\n",
    "\n",
    "# Set tmin and tmax based on experimental conditions.  In this case, the participant was not moving perfectly to the triggers.\n",
    "noise_cov = mne.compute_covariance(epochs, method='auto', tmin=-2, tmax=0.01)\n",
    "data_cov = mne.compute_covariance(epochs, method='auto', tmin=1, tmax=epochs.tmax)\n",
    "\n",
    "noise_cov.plot(epochs.info,);\n",
    "data_cov.plot(epochs.info,);\n",
    "\n",
    "# Alternative to muaps_from matlab.mat - Load the mask, and then extract from the relevant EMG channels in MNE_raw\n",
    "filename = '/Users/pokhims/Library/CloudStorage/OneDrive-TheUniversityofMelbourne/Documents/Coding/CMU_EMGSL/Data/muaps_mask.mat'\n",
    "mask = scipy.io.loadmat(filename)['mask']\n",
    "# Not sure why some of the masks aren't in the data - and why the end result is so different\n",
    "mask = mask[:-2, :]\n",
    "data = MNE_raw.get_data(picks='data')\n",
    "# Need to get component for all channels\n",
    "muaps = np.zeros((128,41))\n",
    "for i in range(128):\n",
    "    tmp = data[i,:]\n",
    "    snips = tmp[mask]\n",
    "    muaps[i,:] = np.mean(snips, axis=0)\n",
    "\n",
    "# Another alternative to the data\n",
    "ext_1 = epochs.get_data(picks='data')[0,:,25030:25070]\n",
    "flex_1 = epochs.get_data(picks='data')[0,:,26670:26710]"
   ]
  },
  {
   "cell_type": "code",
   "execution_count": 9,
   "metadata": {},
   "outputs": [],
   "source": [
    "# epochs.plot(n_epochs=1, scalings='auto',);"
   ]
  },
  {
   "cell_type": "code",
   "execution_count": 10,
   "metadata": {},
   "outputs": [
    {
     "data": {
      "text/plain": [
       "33791"
      ]
     },
     "execution_count": 10,
     "metadata": {},
     "output_type": "execute_result"
    }
   ],
   "source": [
    "del MNE_raw, epochs, channel_data, data, tmp, snips\n",
    "\n",
    "gc.collect()"
   ]
  },
  {
   "cell_type": "code",
   "execution_count": 11,
   "metadata": {},
   "outputs": [
    {
     "name": "stdout",
     "output_type": "stream",
     "text": [
      "2.6943511962890625 MB\n"
     ]
    }
   ],
   "source": [
    "# Beamformer - for online processing - Note max_power is only for use when dipole orientation is unknown\n",
    "\n",
    "w_lcmv = lcmv_beamformer_constructor(fwd, data_cov=data_cov.data, noise_cov= noise_cov.data, pos=pos, arr_gain=True, max_power=False)\n",
    "\n",
    "print(sys.getsizeof(w_lcmv)/8/1024/1024, 'MB')"
   ]
  },
  {
   "cell_type": "code",
   "execution_count": 12,
   "metadata": {},
   "outputs": [
    {
     "name": "stdout",
     "output_type": "stream",
     "text": [
      "0.8419952392578125 MB\n"
     ]
    }
   ],
   "source": [
    "# Choose the waveform to use - muaps, ext_1, flex_1\n",
    "waveform = ext_1\n",
    "\n",
    "# Apply beamformer\n",
    "source_activity_time = np.dot(w_lcmv, waveform)\n",
    "\n",
    "print(sys.getsizeof(source_activity_time)/8/1024/1024, 'MB')"
   ]
  },
  {
   "cell_type": "code",
   "execution_count": 13,
   "metadata": {},
   "outputs": [],
   "source": [
    "# Alternative algorithms, can consider looking at minimum norm estimate:\n",
    "\n",
    "# Minimum norm estimate\n",
    "# source_activity_time = minimum_norm_estimate(fwd, waveform, noise_cov=noise_cov.data, reg=0.1)\n",
    "\n",
    "# sLoreta\n",
    "# source_activity_time = sloreta(fwd[:N,:], waveform, noise_cov=noise_cov, reg=0.1)\n",
    "\n",
    "# Different optimisers for ECD (Equivalent Current Dipole) fitting - Which did not work too well\n",
    "# n_dipoles = 1\n",
    "# data = muaps[:, 20]\n",
    "# N=data.shape[0]\n",
    "# optimal_dipoles = ECD_fit_dipoles(data, fwd[:N,:]/np.linalg.norm(fwd[:N,:]), pos, n_dipoles, initial_guess=np.array([0.05, 0.09, 0.03, 1, 1, 1]), local=True) # \n",
    "# optimal_dipoles = ECD_fit_dipoles_analytical(data, electrode_pos[:N,:], n_dipoles, local=True)\n",
    "# print(\"Optimal dipole parameters (position, strengths):\", optimal_dipoles)\n",
    "\n",
    "# Best dipole in fwd\n",
    "# best_index, best_weights, save_arr = best_dipole_infwd(fwd, muaps)\n",
    "# Pos as obtained from:\n",
    "# pos[best_index[t],0], pos[best_index[t],1], pos[best_index[t],2]"
   ]
  },
  {
   "cell_type": "code",
   "execution_count": 14,
   "metadata": {},
   "outputs": [],
   "source": [
    "plt.figure()\n",
    "plt.plot(waveform.T);"
   ]
  },
  {
   "cell_type": "markdown",
   "metadata": {},
   "source": [
    "# Visualisations"
   ]
  },
  {
   "cell_type": "code",
   "execution_count": 23,
   "metadata": {},
   "outputs": [
    {
     "name": "stdout",
     "output_type": "stream",
     "text": [
      "Upside should be facing towards us.  i.e. Palmside in positive y-direction.  Electrodes go along x dimension.  Z dimension is proximal to distal.\n"
     ]
    }
   ],
   "source": [
    "# Threshold\n",
    "thresh = 0.5\n",
    "# Look at specific timepoint in the source activity - 20 for matlab template waveform, 30 for other one; ext_1 - 5s and 15s are interesting; flex_1 - 9s\n",
    "t = 15\n",
    "\n",
    "source_activity = source_activity_time[:, t]\n",
    "\n",
    "# Reshape source activity to condense N source orientations into 1 per voxel - Confirmed works for 3 orientations, should work for more.\n",
    "reshape_by = source_activity.shape[0] // pos.shape[0]\n",
    "reshaped_act = np.array(source_activity.reshape((reshape_by, -1), order='F'))\n",
    "source_activity = np.linalg.norm(reshaped_act, axis=0)\n",
    "\n",
    "ind = np.abs(source_activity) > thresh*np.max(np.abs(source_activity))\n",
    "source_activity = source_activity[ind]\n",
    "pos_t = pos[ind]\n",
    "\n",
    "# Plot the convex hull and the moved points\n",
    "fig = plt.figure()\n",
    "ax = fig.add_subplot(111, projection='3d')\n",
    "# Plot electrode positions\n",
    "ax.scatter(electrode_pos[:, 0], electrode_pos[:, 1], electrode_pos[:, 2], c=waveform[:,t], marker='o', cmap='turbo')\n",
    "# Plot the source space\n",
    "ax.scatter(pos_t[:, 0], pos_t[:, 1], pos_t[:, 2], c=source_activity, marker='o', alpha=0.8, cmap='viridis')\n",
    "# Set labels\n",
    "ax.set_xlabel('X Axis (m)')\n",
    "ax.set_ylabel('Y Axis (m)')\n",
    "ax.set_zlabel('Z Axis (m)')\n",
    "# fig.show()\n",
    "\n",
    "print('Upside should be facing towards us.  i.e. Palmside in positive y-direction.  Electrodes go along x dimension.  Z dimension is proximal to distal.')"
   ]
  },
  {
   "cell_type": "code",
   "execution_count": 16,
   "metadata": {},
   "outputs": [],
   "source": [
    "source_activity = source_activity_time[:, t]\n",
    "\n",
    "# Faster to reconfigure the scatter points to be in a grid, and then use imshow to plot the activity.\n",
    "grid = pos_to_3Dgrid_converter(pos, source_activity, (xscaling, yscaling, zscaling))\n",
    "\n",
    "x_min, x_max = np.min(pos[:, 0]), np.max(pos[:, 0])\n",
    "y_min, y_max = np.min(pos[:, 1]), np.max(pos[:, 1])\n",
    "z_min, z_max = np.min(pos[:, 2]), np.max(pos[:, 2])"
   ]
  },
  {
   "cell_type": "code",
   "execution_count": 25,
   "metadata": {},
   "outputs": [
    {
     "data": {
      "text/plain": [
       "(19, 19, 82)"
      ]
     },
     "execution_count": 25,
     "metadata": {},
     "output_type": "execute_result"
    }
   ],
   "source": [
    "grid.shape"
   ]
  },
  {
   "cell_type": "code",
   "execution_count": 26,
   "metadata": {},
   "outputs": [
    {
     "data": {
      "text/plain": [
       "(26, 573, 969, 3)"
      ]
     },
     "execution_count": 26,
     "metadata": {},
     "output_type": "execute_result"
    }
   ],
   "source": [
    "arm_image.shape"
   ]
  },
  {
   "cell_type": "code",
   "execution_count": 28,
   "metadata": {},
   "outputs": [
    {
     "name": "stdout",
     "output_type": "stream",
     "text": [
      "MRI for visualisation and does not represent patient nor model arm\n"
     ]
    }
   ],
   "source": [
    "# Plot a slice of the source estimate\n",
    "z = 10\n",
    "\n",
    "# Display the source estimate and an arm for reference\n",
    "plt.figure(figsize=(12, 6))\n",
    "\n",
    "# Load arm MRI file\n",
    "ds = pydicom.read_file('/Users/pokhims/Library/CloudStorage/OneDrive-TheUniversityofMelbourne/Documents/Coding/CMU_EMGSL/Data/R_Forearm.dcm')\n",
    "arm_image = ds.pixel_array\n",
    "\n",
    "plt.subplot(121) \n",
    "plt.imshow(arm_image[z*arm_image.shape[0]//grid.shape[2], 100:500 , 330:670 , 2], extent=[y_min, y_max, x_min, x_max], cmap='gray', origin='upper')\n",
    "plt.title('MRI for visualisation of orientation only'), plt.axis('on')\n",
    "print('MRI for visualisation and does not represent patient nor model arm')\n",
    "plt.scatter(electrode_pos[:, 0], electrode_pos[:, 1], c=waveform[:,t], cmap='turbo', marker='o',)\n",
    "plt.colorbar(label='Electrode Activity')\n",
    "plt.xlabel('X Axis (m)'), plt.ylabel('Y Axis (m)')\n",
    "\n",
    "plt.subplot(122)\n",
    "plt.imshow(grid[:,:,z], extent=[y_min, y_max, x_min, x_max], origin='upper', cmap='viridis')\n",
    "plt.colorbar(label='Source Activity')\n",
    "plt.scatter(electrode_pos[:, 0], electrode_pos[:, 1], c=waveform[:,t], cmap='turbo',marker='o',)\n",
    "plt.xlabel('X Axis (m)'), plt.ylabel('Y Axis (m)')\n",
    "\n",
    "plt.title('Source Estimate'), plt.axis('on')\n",
    "plt.show()"
   ]
  },
  {
   "cell_type": "code",
   "execution_count": 18,
   "metadata": {},
   "outputs": [],
   "source": [
    "# Plot all the slices\n",
    "# This is hard to use when there are too many slices!  May need to change the matplotlib viewer if too many slices\n",
    "# %matplotlib inline\n",
    "\n",
    "num_slices = grid.shape[2]\n",
    "\n",
    "# Create subplots\n",
    "fig, axes = plt.subplots(num_slices, 1, figsize=(8, 200))\n",
    "\n",
    "# Plot each slice\n",
    "for z in range(num_slices):\n",
    "    # Plot activity\n",
    "    axes[z].imshow(grid[:,:,z], extent=[y_min, y_max, x_min, x_max], origin='upper', cmap='viridis', vmin=0, vmax=np.nanmax(grid) )\n",
    "    # Plot electrode position\n",
    "    axes[z].scatter(electrode_pos[:, 0], electrode_pos[:, 1], c=waveform[:,t], cmap='turbo', marker='o')\n",
    "    axes[z].set_title(f'{int(1000*z*zscaling)}mm')\n",
    "    axes[z].axis('off')\n",
    "\n",
    "# fig.colorbar(axes[0].imshow(labels[:, :, 0], cmap='viridis'), ax=axes, orientation='vertical')\n",
    "\n",
    "# Display the plot\n",
    "# plt.tight_layout()\n",
    "plt.show()"
   ]
  },
  {
   "cell_type": "code",
   "execution_count": 19,
   "metadata": {},
   "outputs": [],
   "source": [
    "# # If want to do 3D animated plot\n",
    "\n",
    "# def update_plot(i, data, scat, ):\n",
    "#     scat.set_array(data[i])\n",
    "#     ax.set_title(f'Timepoint {i}')\n",
    "#     return scat,\n",
    "\n",
    "# numframes = muaps.shape[1]\n",
    "# colour_data = muaps.T\n",
    "# pos_move = pos[best_index,:]\n",
    "\n",
    "# # Plot 3D image of electrode positions and select dipole positions\n",
    "\n",
    "# fig = plt.figure(figsize=(10, 10))\n",
    "# ax = fig.add_subplot(111, projection='3d')\n",
    "\n",
    "# # Plot the electrode positions\n",
    "# p = ax.scatter(electrode_pos[:, 0], electrode_pos[:, 1], electrode_pos[:, 2], c=muaps[:,0], marker='o', ) #vmin=muaps.min(), vmax=muaps.max())\n",
    "# # fig.colorbar(p, ax=ax)\n",
    "# # Colourbar and vmin and vmax may not be useful as only one electrode may seem to change colour\n",
    "# # p2 = ax.scatter(pos[best_index[:],0], pos[best_index[:],1], pos[best_index[:],2], c='r', marker='x', s=50, )\n",
    "\n",
    "# # Set labels\n",
    "# ax.set_xlabel('X (m)')\n",
    "# ax.set_ylabel('Y (m)')\n",
    "# ax.set_zlabel('Z (m)')\n",
    "\n",
    "# ani = animation.FuncAnimation(fig, update_plot, frames=range(numframes),\n",
    "#                                 fargs=(colour_data, p, ))\n",
    "# plt.show()"
   ]
  }
 ],
 "metadata": {
  "kernelspec": {
   "display_name": "neuro",
   "language": "python",
   "name": "neuro"
  },
  "language_info": {
   "codemirror_mode": {
    "name": "ipython",
    "version": 3
   },
   "file_extension": ".py",
   "mimetype": "text/x-python",
   "name": "python",
   "nbconvert_exporter": "python",
   "pygments_lexer": "ipython3",
   "version": "3.10.10"
  }
 },
 "nbformat": 4,
 "nbformat_minor": 2
}
