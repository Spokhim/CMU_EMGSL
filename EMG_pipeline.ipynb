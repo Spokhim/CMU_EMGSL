{
 "cells": [
  {
   "cell_type": "markdown",
   "metadata": {},
   "source": [
    "# EMG Pipeline #\n",
    "\n",
    "This notebook is to demonstrate the pipeline for EMG source inversion."
   ]
  },
  {
   "cell_type": "markdown",
   "metadata": {},
   "source": [
    "# Imports #\n",
    "These should be covered in `requirements.txt`- activate the virtual environment `.venv` for the Python kernel and then make sure that environment has installed `pip install -r requirements.txt`. "
   ]
  },
  {
   "cell_type": "code",
   "execution_count": 1,
   "metadata": {},
   "outputs": [],
   "source": [
    "from scipy.constants import epsilon_0\n",
    "import numpy as np\n",
    "import matplotlib.pyplot as plt\n",
    "from scipy.special import kv as K0, iv as I0\n",
    "from scipy.linalg import solve, pinv, svd\n",
    "\n",
    "from EMGinv_fns import *\n",
    "\n",
    "from mpl_toolkits.mplot3d import Axes3D\n",
    "from scipy.spatial import ConvexHull, Delaunay\n",
    "from scipy.optimize import minimize\n",
    "\n",
    "import pandas as pd\n",
    "import scipy.io\n",
    "import mat73\n",
    "from pathlib import Path\n",
    "import shutil\n",
    "import os.path as op\n",
    "import mne\n",
    "\n",
    "import gc\n",
    "import matplotlib.animation as animation\n",
    "import pydicom\n",
    "\n",
    "# Remove magic commands if turning into a script\n",
    "import pyvistaqt\n",
    "%matplotlib qt\n",
    "%load_ext autoreload\n",
    "%autoreload 2"
   ]
  },
  {
   "cell_type": "code",
   "execution_count": 2,
   "metadata": {},
   "outputs": [
    {
     "name": "stdout",
     "output_type": "stream",
     "text": [
      "Reading forward solution from c:\\MyRepos\\Python\\CMU_EMGSL\\Data\\simp_arm_2mm-fwd.fif...\n",
      "    Reading a source space...\n",
      "    [done]\n",
      "    1 source spaces read\n",
      "    Desired named matrix (kind = 3523 (FIFF_MNE_FORWARD_SOLUTION_GRAD)) not available\n",
      "    Read EEG forward solution (23424 sources, 256 channels, free orientations)\n",
      "    Source spaces transformed to the forward solution coordinate frame\n"
     ]
    }
   ],
   "source": [
    "# Loading source space and forward model generated in MNE-python, see Fwd_BEM_MNE.ipynb\n",
    "\n",
    "# Load electrode positions\n",
    "electrode_pos = np.load('Data/256simparm_electrode_pos.npy')\n",
    "\n",
    "# Load forward model\n",
    "mne_fwd = mne.read_forward_solution('Data/simp_arm_2mm-fwd.fif')\n",
    "fwd = mne_fwd['sol']['data']\n",
    "pos = mne_fwd['source_rr'] \n",
    "\n",
    "xscaling, yscaling, zscaling = (2e-3, 2e-3, 2e-3) # Is the distance between dipoles in source space #np.repeat(np.abs(np.sum(np.diff(pos[0], axis = 0))),3)  \n",
    "\n",
    "# Transformations specific to dataset\n",
    "# Need to remove some electrodes - get rid of the middle ones\n",
    "fwd = np.vstack((fwd[:64,:], fwd[192:,:]))\n",
    "electrode_pos = np.vstack((electrode_pos[:64,:], electrode_pos[192:,:]))\n",
    "\n",
    "# If Blender defaults were used may need to adjust axes = [\"X\", \"Z\", \"Y\"], however this should not be necessary otherwise\n",
    "# electrode_pos = electrode_pos[:,[0,2,1]] , # pos = pos[:,[0,2,1]]\n",
    "\n",
    "# Removal of dipole sources - here remove sources lying within cylinders representing bone\n",
    "pos, fwd = bone_remover(pos, fwd, -9e-3, 0, 5e-3) #Ulnar\n",
    "pos, fwd = bone_remover(pos, fwd, 5e-3, -9e-3, 5e-3) # Radius\n",
    "\n",
    "# Consider fwd model adjustments\n",
    "# Condense the fwd such that there is only one dipole per voxel\n",
    "dipole_ori = [0, 0, 1]\n",
    "fwd = fwd_convertfixed(fwd, dipole_ori )"
   ]
  },
  {
   "cell_type": "code",
   "execution_count": 3,
   "metadata": {},
   "outputs": [
    {
     "data": {
      "text/plain": [
       "(128, 20654)"
      ]
     },
     "execution_count": 46,
     "metadata": {},
     "output_type": "execute_result"
    }
   ],
   "source": [
    "fwd.shape"
   ]
  },
  {
   "cell_type": "code",
   "execution_count": 30,
   "metadata": {},
   "outputs": [],
   "source": [
    "# Alternative: Loading source space and forward model generated from (MRI) image data\n",
    "# # Load electrode positions\n",
    "# electrode_pos = np.load('electrode_pos.npy')\n",
    "\n",
    "# # Load source space \n",
    "# xscaling, yscaling, zscaling = 1.5e-4, 1.5e-4, 0.5e-2\n",
    "# pos = load_src_template(filename=None, xscaling=xscaling, yscaling=yscaling, zscaling=zscaling)\n",
    "\n",
    "# # Load forward model\n",
    "# fwd = np.load('Data/fwd_dipole.npy')\n",
    "# # Alternative would be to generate with\n",
    "# # fwd = fwd_generator(dipole_potential, pos, electrode_positions)\n",
    "# # And then saving with np.save('fwd_dipole.npy', fwd) - Very big file\n",
    "\n",
    "# # Consider fwd model adjustments\n",
    "# # Condense the fwd such that there is only one dipole per voxel\n",
    "# dipole_ori = [0, 0, 1]\n",
    "# fwd = fwd_convertfixed(fwd, dipole_ori )\n",
    "\n",
    "# # Adjust the fwd to remove some outliers\n",
    "# # fwd[fwd>1e15] = 1e15\n",
    "# # fwd = np.log10(fwd+1)  # this doesn't preserve sign\n",
    "# fwd[np.isnan(fwd)] = 0 # for any nans"
   ]
  },
  {
   "cell_type": "code",
   "execution_count": 4,
   "metadata": {},
   "outputs": [
    {
     "name": "stdout",
     "output_type": "stream",
     "text": [
      "Reading file  C:/Data/MetaWB/MCP04_2024_09_17/TMSi/MCP04_2024_09_17_A_PROX_3.poly5\n",
      "\t Number of samples:  492687 \n",
      "\t Number of channels:  70 \n",
      "\t Sample rate: 2000 Hz\n",
      "Done reading data.\n",
      "Creating RawArray with float64 data, n_channels=70, n_times=492687\n",
      "    Range : 0 ... 492686 =      0.000 ...   246.343 secs\n",
      "Ready.\n",
      "Sample rate:  2000  Hz\n",
      "Channel names:  ['UNI 01', 'UNI 02', 'UNI 03', 'UNI 04', 'UNI 05', 'UNI 06', 'UNI 07', 'UNI 08', 'UNI 09', 'UNI 10', 'UNI 11', 'UNI 12', 'UNI 13', 'UNI 14', 'UNI 15', 'UNI 16', 'UNI 17', 'UNI 18', 'UNI 19', 'UNI 20', 'UNI 21', 'UNI 22', 'UNI 23', 'UNI 24', 'UNI 25', 'UNI 26', 'UNI 27', 'UNI 28', 'UNI 29', 'UNI 30', 'UNI 31', 'UNI 32', 'UNI 33', 'UNI 34', 'UNI 35', 'UNI 36', 'UNI 37', 'UNI 38', 'UNI 39', 'UNI 40', 'UNI 41', 'UNI 42', 'UNI 43', 'UNI 44', 'UNI 45', 'UNI 46', 'UNI 47', 'UNI 48', 'UNI 49', 'UNI 50', 'UNI 51', 'UNI 52', 'UNI 53', 'UNI 54', 'UNI 55', 'UNI 56', 'UNI 57', 'UNI 58', 'UNI 59', 'UNI 60', 'UNI 61', 'UNI 62', 'UNI 63', 'UNI 64', 'AUX 1-1', 'AUX 1-2', 'AUX 1-3', 'TRIGGERS', 'STATUS', 'COUNTER']\n",
      "Shape samples:  (70, 492687)\n",
      "Reading file  C:/Data/MetaWB/MCP04_2024_09_17/TMSi/MCP04_2024_09_17_B_DIST_3.poly5\n",
      "\t Number of samples:  492687 \n",
      "\t Number of channels:  70 \n",
      "\t Sample rate: 2000 Hz\n",
      "Done reading data.\n",
      "Creating RawArray with float64 data, n_channels=70, n_times=492687\n",
      "    Range : 0 ... 492686 =      0.000 ...   246.343 secs\n",
      "Ready.\n",
      "Sample rate:  2000  Hz\n",
      "Channel names:  ['UNI 01', 'UNI 02', 'UNI 03', 'UNI 04', 'UNI 05', 'UNI 06', 'UNI 07', 'UNI 08', 'UNI 09', 'UNI 10', 'UNI 11', 'UNI 12', 'UNI 13', 'UNI 14', 'UNI 15', 'UNI 16', 'UNI 17', 'UNI 18', 'UNI 19', 'UNI 20', 'UNI 21', 'UNI 22', 'UNI 23', 'UNI 24', 'UNI 25', 'UNI 26', 'UNI 27', 'UNI 28', 'UNI 29', 'UNI 30', 'UNI 31', 'UNI 32', 'UNI 33', 'UNI 34', 'UNI 35', 'UNI 36', 'UNI 37', 'UNI 38', 'UNI 39', 'UNI 40', 'UNI 41', 'UNI 42', 'UNI 43', 'UNI 44', 'UNI 45', 'UNI 46', 'UNI 47', 'UNI 48', 'UNI 49', 'UNI 50', 'UNI 51', 'UNI 52', 'UNI 53', 'UNI 54', 'UNI 55', 'UNI 56', 'UNI 57', 'UNI 58', 'UNI 59', 'UNI 60', 'UNI 61', 'UNI 62', 'UNI 63', 'UNI 64', 'AUX 1-1', 'AUX 1-2', 'AUX 1-3', 'TRIGGERS', 'STATUS', 'COUNTER']\n",
      "Shape samples:  (70, 492687)\n",
      "Creating RawArray with float64 data, n_channels=140, n_times=492686\n",
      "    Range : 0 ... 492685 =      0.000 ...   246.343 secs\n",
      "Ready.\n"
     ]
    }
   ],
   "source": [
    "# Load muap template waveforms \n",
    "# filename = '/Users/pokhims/Library/CloudStorage/OneDrive-TheUniversityofMelbourne/Documents/Coding/CMU_EMGSL/Data/muaps_frommatlab.mat'\n",
    "# muaps_1 = scipy.io.loadmat(filename)['muaps']\n",
    "\n",
    "# Load some data - to construct covariance matrices\n",
    "# MNE_raw = load_tmsitomne_combine(f_prox = 'Data/Pok_2024_08_21_A_PROX_8.poly5', f_dist='Data/Pok_2024_08_21_B_DIST_8.poly5', scale=1e-6)\n",
    "MNE_raw = load_tmsitomne_combine(f_prox = 'C:/Data/MetaWB/MCP04_2024_09_17/TMSi/MCP04_2024_09_17_A_PROX_3.poly5', \n",
    "                                 f_dist='C:/Data/MetaWB/MCP04_2024_09_17/TMSi/MCP04_2024_09_17_B_DIST_3.poly5', \n",
    "                                 scale=1e-6, \n",
    "                                 trigger_bit = 1)"
   ]
  },
  {
   "cell_type": "code",
   "execution_count": 5,
   "metadata": {},
   "outputs": [
    {
     "name": "stdout",
     "output_type": "stream",
     "text": [
      "Filtering raw data in 1 contiguous segment\n",
      "Setting up high-pass filter at 1e+02 Hz\n",
      "\n",
      "FIR filter parameters\n",
      "---------------------\n",
      "Designing a one-pass, zero-phase, non-causal highpass filter:\n",
      "- Windowed time-domain design (firwin) method\n",
      "- Hamming window with 0.0194 passband ripple and 53 dB stopband attenuation\n",
      "- Lower passband edge: 100.00\n",
      "- Lower transition bandwidth: 25.00 Hz (-6 dB cutoff frequency: 87.50 Hz)\n",
      "- Filter length: 265 samples (0.133 s)\n",
      "\n"
     ]
    },
    {
     "name": "stderr",
     "output_type": "stream",
     "text": [
      "[Parallel(n_jobs=1)]: Done  17 tasks      | elapsed:    0.1s\n",
      "[Parallel(n_jobs=1)]: Done  71 tasks      | elapsed:    0.6s\n"
     ]
    },
    {
     "name": "stdout",
     "output_type": "stream",
     "text": [
      "[[ 19788      0      0]\n",
      " [ 39739      0      1]\n",
      " [ 49789      0      0]\n",
      " [ 69739      0      1]\n",
      " [ 79789      0      0]\n",
      " [ 99739      0      1]\n",
      " [109789      0      0]\n",
      " [129769      0      1]\n",
      " [139790      0      0]\n",
      " [159770      0      1]\n",
      " [169820      0      0]\n",
      " [189800      0      1]\n",
      " [199850      0      0]\n",
      " [219800      0      1]\n",
      " [229850      0      0]\n",
      " [249831      0      1]\n",
      " [259851      0      0]\n",
      " [279831      0      1]\n",
      " [289851      0      0]\n",
      " [309831      0      1]\n",
      " [319851      0      0]\n",
      " [339861      0      1]\n",
      " [349882      0      0]\n",
      " [369862      0      1]\n",
      " [379882      0      0]\n",
      " [399862      0      1]\n",
      " [409882      0      0]\n",
      " [429892      0      1]\n",
      " [439912      0      0]\n",
      " [459893      0      1]]\n",
      "Not setting metadata\n",
      "30 matching events found\n",
      "No baseline correction applied\n",
      "0 projection items activated\n",
      "Using data from preloaded Raw for 30 events and 16001 original time points ...\n",
      "0 bad epochs dropped\n",
      "    Setting small EEG eigenvalues to zero (without PCA)\n",
      "Reducing data rank from 128 -> 126\n",
      "Estimating covariance using SHRUNK\n"
     ]
    },
    {
     "name": "stderr",
     "output_type": "stream",
     "text": [
      "C:\\Users\\maxmu\\AppData\\Local\\Temp\\ipykernel_29516\\1372629668.py:16: RuntimeWarning: No average EEG reference present in info[\"projs\"], covariance may be adversely affected. Consider recomputing covariance using with an average eeg reference projector added.\n",
      "  noise_cov = mne.compute_covariance(epochs, method='auto', tmin=-2, tmax=0.01)\n"
     ]
    },
    {
     "name": "stdout",
     "output_type": "stream",
     "text": [
      "Done.\n",
      "Estimating covariance using DIAGONAL_FIXED\n",
      "    EEG regularization : 0.1\n",
      "Done.\n",
      "Estimating covariance using EMPIRICAL\n",
      "Done.\n",
      "Using cross-validation to select the best estimator.\n",
      "    EEG regularization : 0.1\n",
      "    EEG regularization : 0.1\n",
      "    EEG regularization : 0.1\n",
      "Number of samples used : 120630\n",
      "log-likelihood on unseen data (descending order):\n",
      "   empirical: -294.105\n",
      "   shrunk: -294.529\n",
      "   diagonal_fixed: -306.279\n",
      "selecting best estimator: empirical\n",
      "[done]\n",
      "    Setting small EEG eigenvalues to zero (without PCA)\n",
      "Reducing data rank from 128 -> 126\n",
      "Estimating covariance using SHRUNK\n"
     ]
    },
    {
     "name": "stderr",
     "output_type": "stream",
     "text": [
      "C:\\Users\\maxmu\\AppData\\Local\\Temp\\ipykernel_29516\\1372629668.py:17: RuntimeWarning: No average EEG reference present in info[\"projs\"], covariance may be adversely affected. Consider recomputing covariance using with an average eeg reference projector added.\n",
      "  data_cov = mne.compute_covariance(epochs, method='auto', tmin=1, tmax=epochs.tmax)\n"
     ]
    },
    {
     "name": "stdout",
     "output_type": "stream",
     "text": [
      "Done.\n",
      "Estimating covariance using DIAGONAL_FIXED\n",
      "    EEG regularization : 0.1\n",
      "Done.\n",
      "Estimating covariance using EMPIRICAL\n",
      "Done.\n",
      "Using cross-validation to select the best estimator.\n",
      "    EEG regularization : 0.1\n",
      "    EEG regularization : 0.1\n",
      "    EEG regularization : 0.1\n",
      "Number of samples used : 180030\n",
      "log-likelihood on unseen data (descending order):\n",
      "   empirical: -356.992\n",
      "   shrunk: -357.687\n",
      "   diagonal_fixed: -372.832\n",
      "selecting best estimator: empirical\n",
      "[done]\n",
      "Computing rank from covariance with rank=None\n",
      "    Using tolerance 4.5e-13 (2.2e-16 eps * 128 dim * 16  max singular value)\n",
      "    Estimated rank (eeg): 126\n",
      "    EEG: rank 126 computed from 128 data channels with 0 projectors\n",
      "Computing rank from covariance with rank=None\n",
      "    Using tolerance 8.7e-13 (2.2e-16 eps * 128 dim * 31  max singular value)\n",
      "    Estimated rank (eeg): 126\n",
      "    EEG: rank 126 computed from 128 data channels with 0 projectors\n"
     ]
    },
    {
     "ename": "FileNotFoundError",
     "evalue": "[Errno 2] No such file or directory: '/Users/pokhims/Library/CloudStorage/OneDrive-TheUniversityofMelbourne/Documents/Coding/CMU_EMGSL/Data/muaps_mask.mat'",
     "output_type": "error",
     "traceback": [
      "\u001b[1;31m---------------------------------------------------------------------------\u001b[0m",
      "\u001b[1;31mFileNotFoundError\u001b[0m                         Traceback (most recent call last)",
      "File \u001b[1;32mc:\\MyRepos\\Python\\CMU_EMGSL\\.venv\\Lib\\site-packages\\scipy\\io\\matlab\\_mio.py:39\u001b[0m, in \u001b[0;36m_open_file\u001b[1;34m(file_like, appendmat, mode)\u001b[0m\n\u001b[0;32m     38\u001b[0m \u001b[38;5;28;01mtry\u001b[39;00m:\n\u001b[1;32m---> 39\u001b[0m     \u001b[38;5;28;01mreturn\u001b[39;00m \u001b[38;5;28;43mopen\u001b[39;49m\u001b[43m(\u001b[49m\u001b[43mfile_like\u001b[49m\u001b[43m,\u001b[49m\u001b[43m \u001b[49m\u001b[43mmode\u001b[49m\u001b[43m)\u001b[49m, \u001b[38;5;28;01mTrue\u001b[39;00m\n\u001b[0;32m     40\u001b[0m \u001b[38;5;28;01mexcept\u001b[39;00m \u001b[38;5;167;01mOSError\u001b[39;00m \u001b[38;5;28;01mas\u001b[39;00m e:\n\u001b[0;32m     41\u001b[0m     \u001b[38;5;66;03m# Probably \"not found\"\u001b[39;00m\n",
      "\u001b[1;31mFileNotFoundError\u001b[0m: [Errno 2] No such file or directory: '/Users/pokhims/Library/CloudStorage/OneDrive-TheUniversityofMelbourne/Documents/Coding/CMU_EMGSL/Data/muaps_mask.mat'",
      "\nDuring handling of the above exception, another exception occurred:\n",
      "\u001b[1;31mFileNotFoundError\u001b[0m                         Traceback (most recent call last)",
      "Cell \u001b[1;32mIn[5], line 24\u001b[0m\n\u001b[0;32m     22\u001b[0m \u001b[38;5;66;03m# Alternative to muaps_from matlab.mat - Load the mask, and then extract from the relevant EMG channels in MNE_raw\u001b[39;00m\n\u001b[0;32m     23\u001b[0m filename \u001b[38;5;241m=\u001b[39m \u001b[38;5;124m'\u001b[39m\u001b[38;5;124m/Users/pokhims/Library/CloudStorage/OneDrive-TheUniversityofMelbourne/Documents/Coding/CMU_EMGSL/Data/muaps_mask.mat\u001b[39m\u001b[38;5;124m'\u001b[39m\n\u001b[1;32m---> 24\u001b[0m mask \u001b[38;5;241m=\u001b[39m \u001b[43mscipy\u001b[49m\u001b[38;5;241;43m.\u001b[39;49m\u001b[43mio\u001b[49m\u001b[38;5;241;43m.\u001b[39;49m\u001b[43mloadmat\u001b[49m\u001b[43m(\u001b[49m\u001b[43mfilename\u001b[49m\u001b[43m)\u001b[49m[\u001b[38;5;124m'\u001b[39m\u001b[38;5;124mmask\u001b[39m\u001b[38;5;124m'\u001b[39m]\n\u001b[0;32m     25\u001b[0m \u001b[38;5;66;03m# Not sure why some of the masks aren't in the data - and why the end result is so different\u001b[39;00m\n\u001b[0;32m     26\u001b[0m mask \u001b[38;5;241m=\u001b[39m mask[:\u001b[38;5;241m-\u001b[39m\u001b[38;5;241m2\u001b[39m, :]\n",
      "File \u001b[1;32mc:\\MyRepos\\Python\\CMU_EMGSL\\.venv\\Lib\\site-packages\\scipy\\io\\matlab\\_mio.py:225\u001b[0m, in \u001b[0;36mloadmat\u001b[1;34m(file_name, mdict, appendmat, **kwargs)\u001b[0m\n\u001b[0;32m     88\u001b[0m \u001b[38;5;250m\u001b[39m\u001b[38;5;124;03m\"\"\"\u001b[39;00m\n\u001b[0;32m     89\u001b[0m \u001b[38;5;124;03mLoad MATLAB file.\u001b[39;00m\n\u001b[0;32m     90\u001b[0m \n\u001b[1;32m   (...)\u001b[0m\n\u001b[0;32m    222\u001b[0m \u001b[38;5;124;03m    3.14159265+3.14159265j])\u001b[39;00m\n\u001b[0;32m    223\u001b[0m \u001b[38;5;124;03m\"\"\"\u001b[39;00m\n\u001b[0;32m    224\u001b[0m variable_names \u001b[38;5;241m=\u001b[39m kwargs\u001b[38;5;241m.\u001b[39mpop(\u001b[38;5;124m'\u001b[39m\u001b[38;5;124mvariable_names\u001b[39m\u001b[38;5;124m'\u001b[39m, \u001b[38;5;28;01mNone\u001b[39;00m)\n\u001b[1;32m--> 225\u001b[0m \u001b[43m\u001b[49m\u001b[38;5;28;43;01mwith\u001b[39;49;00m\u001b[43m \u001b[49m\u001b[43m_open_file_context\u001b[49m\u001b[43m(\u001b[49m\u001b[43mfile_name\u001b[49m\u001b[43m,\u001b[49m\u001b[43m \u001b[49m\u001b[43mappendmat\u001b[49m\u001b[43m)\u001b[49m\u001b[43m \u001b[49m\u001b[38;5;28;43;01mas\u001b[39;49;00m\u001b[43m \u001b[49m\u001b[43mf\u001b[49m\u001b[43m:\u001b[49m\n\u001b[0;32m    226\u001b[0m \u001b[43m    \u001b[49m\u001b[43mMR\u001b[49m\u001b[43m,\u001b[49m\u001b[43m \u001b[49m\u001b[43m_\u001b[49m\u001b[43m \u001b[49m\u001b[38;5;241;43m=\u001b[39;49m\u001b[43m \u001b[49m\u001b[43mmat_reader_factory\u001b[49m\u001b[43m(\u001b[49m\u001b[43mf\u001b[49m\u001b[43m,\u001b[49m\u001b[43m \u001b[49m\u001b[38;5;241;43m*\u001b[39;49m\u001b[38;5;241;43m*\u001b[39;49m\u001b[43mkwargs\u001b[49m\u001b[43m)\u001b[49m\n\u001b[0;32m    227\u001b[0m \u001b[43m    \u001b[49m\u001b[43mmatfile_dict\u001b[49m\u001b[43m \u001b[49m\u001b[38;5;241;43m=\u001b[39;49m\u001b[43m \u001b[49m\u001b[43mMR\u001b[49m\u001b[38;5;241;43m.\u001b[39;49m\u001b[43mget_variables\u001b[49m\u001b[43m(\u001b[49m\u001b[43mvariable_names\u001b[49m\u001b[43m)\u001b[49m\n",
      "File \u001b[1;32m~\\miniconda3\\Lib\\contextlib.py:137\u001b[0m, in \u001b[0;36m_GeneratorContextManager.__enter__\u001b[1;34m(self)\u001b[0m\n\u001b[0;32m    135\u001b[0m \u001b[38;5;28;01mdel\u001b[39;00m \u001b[38;5;28mself\u001b[39m\u001b[38;5;241m.\u001b[39margs, \u001b[38;5;28mself\u001b[39m\u001b[38;5;241m.\u001b[39mkwds, \u001b[38;5;28mself\u001b[39m\u001b[38;5;241m.\u001b[39mfunc\n\u001b[0;32m    136\u001b[0m \u001b[38;5;28;01mtry\u001b[39;00m:\n\u001b[1;32m--> 137\u001b[0m     \u001b[38;5;28;01mreturn\u001b[39;00m \u001b[38;5;28mnext\u001b[39m(\u001b[38;5;28mself\u001b[39m\u001b[38;5;241m.\u001b[39mgen)\n\u001b[0;32m    138\u001b[0m \u001b[38;5;28;01mexcept\u001b[39;00m \u001b[38;5;167;01mStopIteration\u001b[39;00m:\n\u001b[0;32m    139\u001b[0m     \u001b[38;5;28;01mraise\u001b[39;00m \u001b[38;5;167;01mRuntimeError\u001b[39;00m(\u001b[38;5;124m\"\u001b[39m\u001b[38;5;124mgenerator didn\u001b[39m\u001b[38;5;124m'\u001b[39m\u001b[38;5;124mt yield\u001b[39m\u001b[38;5;124m\"\u001b[39m) \u001b[38;5;28;01mfrom\u001b[39;00m \u001b[38;5;28;01mNone\u001b[39;00m\n",
      "File \u001b[1;32mc:\\MyRepos\\Python\\CMU_EMGSL\\.venv\\Lib\\site-packages\\scipy\\io\\matlab\\_mio.py:17\u001b[0m, in \u001b[0;36m_open_file_context\u001b[1;34m(file_like, appendmat, mode)\u001b[0m\n\u001b[0;32m     15\u001b[0m \u001b[38;5;129m@contextmanager\u001b[39m\n\u001b[0;32m     16\u001b[0m \u001b[38;5;28;01mdef\u001b[39;00m \u001b[38;5;21m_open_file_context\u001b[39m(file_like, appendmat, mode\u001b[38;5;241m=\u001b[39m\u001b[38;5;124m'\u001b[39m\u001b[38;5;124mrb\u001b[39m\u001b[38;5;124m'\u001b[39m):\n\u001b[1;32m---> 17\u001b[0m     f, opened \u001b[38;5;241m=\u001b[39m \u001b[43m_open_file\u001b[49m\u001b[43m(\u001b[49m\u001b[43mfile_like\u001b[49m\u001b[43m,\u001b[49m\u001b[43m \u001b[49m\u001b[43mappendmat\u001b[49m\u001b[43m,\u001b[49m\u001b[43m \u001b[49m\u001b[43mmode\u001b[49m\u001b[43m)\u001b[49m\n\u001b[0;32m     18\u001b[0m     \u001b[38;5;28;01mtry\u001b[39;00m:\n\u001b[0;32m     19\u001b[0m         \u001b[38;5;28;01myield\u001b[39;00m f\n",
      "File \u001b[1;32mc:\\MyRepos\\Python\\CMU_EMGSL\\.venv\\Lib\\site-packages\\scipy\\io\\matlab\\_mio.py:45\u001b[0m, in \u001b[0;36m_open_file\u001b[1;34m(file_like, appendmat, mode)\u001b[0m\n\u001b[0;32m     43\u001b[0m     \u001b[38;5;28;01mif\u001b[39;00m appendmat \u001b[38;5;129;01mand\u001b[39;00m \u001b[38;5;129;01mnot\u001b[39;00m file_like\u001b[38;5;241m.\u001b[39mendswith(\u001b[38;5;124m'\u001b[39m\u001b[38;5;124m.mat\u001b[39m\u001b[38;5;124m'\u001b[39m):\n\u001b[0;32m     44\u001b[0m         file_like \u001b[38;5;241m+\u001b[39m\u001b[38;5;241m=\u001b[39m \u001b[38;5;124m'\u001b[39m\u001b[38;5;124m.mat\u001b[39m\u001b[38;5;124m'\u001b[39m\n\u001b[1;32m---> 45\u001b[0m     \u001b[38;5;28;01mreturn\u001b[39;00m \u001b[38;5;28;43mopen\u001b[39;49m\u001b[43m(\u001b[49m\u001b[43mfile_like\u001b[49m\u001b[43m,\u001b[49m\u001b[43m \u001b[49m\u001b[43mmode\u001b[49m\u001b[43m)\u001b[49m, \u001b[38;5;28;01mTrue\u001b[39;00m\n\u001b[0;32m     46\u001b[0m \u001b[38;5;28;01melse\u001b[39;00m:\n\u001b[0;32m     47\u001b[0m     \u001b[38;5;28;01mraise\u001b[39;00m \u001b[38;5;167;01mOSError\u001b[39;00m(\n\u001b[0;32m     48\u001b[0m         \u001b[38;5;124m'\u001b[39m\u001b[38;5;124mReader needs file name or open file-like object\u001b[39m\u001b[38;5;124m'\u001b[39m\n\u001b[0;32m     49\u001b[0m     ) \u001b[38;5;28;01mfrom\u001b[39;00m \u001b[38;5;21;01me\u001b[39;00m\n",
      "\u001b[1;31mFileNotFoundError\u001b[0m: [Errno 2] No such file or directory: '/Users/pokhims/Library/CloudStorage/OneDrive-TheUniversityofMelbourne/Documents/Coding/CMU_EMGSL/Data/muaps_mask.mat'"
     ]
    }
   ],
   "source": [
    "# Important to filter the data (highpass filter)\n",
    "MNE_raw = MNE_raw.filter(l_freq=100, h_freq=None, )\n",
    "# Estimate the noise covariance matrix on Epoched data.  This means that the noise covariance will be estimated on pre-stimulus periods\n",
    "# events = tmsi_eventextractor(MNE_raw['Prox - TRIGGERS'][0][0] - 252) # Pok data\n",
    "events = tmsi_ttl_eventextractor(MNE_raw['Prox - TRIGGERS'][0][0], trigger_bit=1) \n",
    "print(events)\n",
    "# event_dict = {'Ext': -2, 'Flex': -6} # Should be correct \n",
    "event_dict = {'Rest': 0, 'Go': 1} # MCP04 data\n",
    "epochs = mne.Epochs(MNE_raw, events, event_dict, tmin=-4, tmax=4, baseline=None, preload=True)\n",
    "# Consider setting an average EEG reference across each panel of 32. \n",
    "# epochs.set_eeg_reference('average', projection=True)\n",
    "# epochs.apply_proj()\n",
    "# epochs.plot(n_epochs=1, scalings='auto', );\n",
    "\n",
    "# Set tmin and tmax based on experimental conditions.  In this case, the participant was not moving perfectly to the triggers.\n",
    "noise_cov = mne.compute_covariance(epochs, method='auto', tmin=-2, tmax=0.01)\n",
    "data_cov = mne.compute_covariance(epochs, method='auto', tmin=1, tmax=epochs.tmax)\n",
    "\n",
    "noise_cov.plot(epochs.info,);\n",
    "data_cov.plot(epochs.info,);\n",
    "\n",
    "# Alternative to muaps_from matlab.mat - Load the mask, and then extract from the relevant EMG channels in MNE_raw\n",
    "# filename = '/Users/pokhims/Library/CloudStorage/OneDrive-TheUniversityofMelbourne/Documents/Coding/CMU_EMGSL/Data/muaps_mask.mat'\n",
    "filename = 'Data/MCP04_2024_09_17_A_PROX_3_muaps_mask.mat'\n",
    "mask = scipy.io.loadmat(filename)['mask']\n",
    "# Not sure why some of the masks aren't in the data - and why the end result is so different\n",
    "mask = mask[:-2, :]\n",
    "data = MNE_raw.get_data(picks='data')\n",
    "# Need to get component for all channels\n",
    "muaps = np.zeros((128,41))\n",
    "for i in range(128):\n",
    "    tmp = data[i,:]\n",
    "    snips = tmp[mask]\n",
    "    muaps[i,:] = np.mean(snips, axis=0)\n",
    "\n",
    "# Another alternative to the data\n",
    "ext_1 = epochs.get_data(picks='data')[0,:,25030:25070]\n",
    "flex_1 = epochs.get_data(picks='data')[0,:,26670:26710]"
   ]
  },
  {
   "cell_type": "code",
   "execution_count": 33,
   "metadata": {},
   "outputs": [],
   "source": [
    "# epochs.plot(n_epochs=1, scalings='auto',);"
   ]
  },
  {
   "cell_type": "code",
   "execution_count": null,
   "metadata": {},
   "outputs": [],
   "source": [
    "del MNE_raw, epochs, channel_data, data, tmp, snips\n",
    "\n",
    "gc.collect()"
   ]
  },
  {
   "cell_type": "code",
   "execution_count": null,
   "metadata": {},
   "outputs": [],
   "source": [
    "# Beamformer - for online processing - Note max_power is only for use when dipole orientation is unknown\n",
    "\n",
    "w_lcmv = lcmv_beamformer_constructor(fwd, data_cov=data_cov.data, noise_cov= noise_cov.data, pos=pos, arr_gain=True, max_power=False)\n",
    "\n",
    "print(sys.getsizeof(w_lcmv)/8/1024/1024, 'MB')"
   ]
  },
  {
   "cell_type": "code",
   "execution_count": null,
   "metadata": {},
   "outputs": [],
   "source": [
    "# Choose the waveform to use - muaps, ext_1, flex_1\n",
    "waveform = ext_1\n",
    "\n",
    "# Apply beamformer\n",
    "source_activity_time = np.dot(w_lcmv, waveform)\n",
    "\n",
    "print(sys.getsizeof(source_activity_time)/8/1024/1024, 'MB')"
   ]
  },
  {
   "cell_type": "code",
   "execution_count": 37,
   "metadata": {},
   "outputs": [],
   "source": [
    "# Alternative algorithms, can consider looking at minimum norm estimate:\n",
    "\n",
    "# Minimum norm estimate\n",
    "# source_activity_time = minimum_norm_estimate(fwd, waveform, noise_cov=noise_cov.data, reg=0.1)\n",
    "\n",
    "# sLoreta\n",
    "# source_activity_time = sloreta(fwd[:N,:], waveform, noise_cov=noise_cov, reg=0.1)\n",
    "\n",
    "# Different optimisers for ECD (Equivalent Current Dipole) fitting - Which did not work too well\n",
    "# n_dipoles = 1\n",
    "# data = muaps[:, 20]\n",
    "# N=data.shape[0]\n",
    "# optimal_dipoles = ECD_fit_dipoles(data, fwd[:N,:]/np.linalg.norm(fwd[:N,:]), pos, n_dipoles, initial_guess=np.array([0.05, 0.09, 0.03, 1, 1, 1]), local=True) # \n",
    "# optimal_dipoles = ECD_fit_dipoles_analytical(data, electrode_pos[:N,:], n_dipoles, local=True)\n",
    "# print(\"Optimal dipole parameters (position, strengths):\", optimal_dipoles)\n",
    "\n",
    "# Best dipole in fwd\n",
    "# best_index, best_weights, save_arr = best_dipole_infwd(fwd, muaps)\n",
    "# Pos as obtained from:\n",
    "# pos[best_index[t],0], pos[best_index[t],1], pos[best_index[t],2]"
   ]
  },
  {
   "cell_type": "code",
   "execution_count": 38,
   "metadata": {},
   "outputs": [],
   "source": [
    "plt.figure()\n",
    "plt.plot(waveform.T);"
   ]
  },
  {
   "cell_type": "markdown",
   "metadata": {},
   "source": [
    "# Visualisations"
   ]
  },
  {
   "cell_type": "code",
   "execution_count": null,
   "metadata": {},
   "outputs": [],
   "source": [
    "# Threshold\n",
    "thresh = 0.5\n",
    "# Look at specific timepoint in the source activity - 20 for matlab template waveform, 30 for other one; ext_1 - 5s and 15s are interesting; flex_1 - 9s\n",
    "t = 15\n",
    "\n",
    "source_activity = source_activity_time[:, t]\n",
    "\n",
    "# Reshape source activity to condense N source orientations into 1 per voxel - Confirmed works for 3 orientations, should work for more.\n",
    "reshape_by = source_activity.shape[0] // pos.shape[0]\n",
    "reshaped_act = np.array(source_activity.reshape((reshape_by, -1), order='F'))\n",
    "source_activity = np.linalg.norm(reshaped_act, axis=0)\n",
    "\n",
    "ind = np.abs(source_activity) > thresh*np.max(np.abs(source_activity))\n",
    "source_activity = source_activity[ind]\n",
    "pos_t = pos[ind]\n",
    "\n",
    "# Plot the convex hull and the moved points\n",
    "fig = plt.figure()\n",
    "ax = fig.add_subplot(111, projection='3d')\n",
    "# Plot electrode positions\n",
    "ax.scatter(electrode_pos[:, 0], electrode_pos[:, 1], electrode_pos[:, 2], c=waveform[:,t], marker='o', cmap='turbo')\n",
    "# Plot the source space\n",
    "ax.scatter(pos_t[:, 0], pos_t[:, 1], pos_t[:, 2], c=source_activity, marker='o', alpha=0.8, cmap='viridis')\n",
    "# Set labels\n",
    "ax.set_xlabel('X Axis (m)')\n",
    "ax.set_ylabel('Y Axis (m)')\n",
    "ax.set_zlabel('Z Axis (m)')\n",
    "# fig.show()\n",
    "\n",
    "print('Upside should be facing towards us.  i.e. Palmside in positive y-direction.  Electrodes go along x dimension.  Z dimension is proximal to distal.')"
   ]
  },
  {
   "cell_type": "code",
   "execution_count": 50,
   "metadata": {},
   "outputs": [],
   "source": [
    "source_activity = source_activity_time[:, t]\n",
    "\n",
    "# Faster to reconfigure the scatter points to be in a grid, and then use imshow to plot the activity.\n",
    "grid = pos_to_3Dgrid_converter(pos, source_activity, (xscaling, yscaling, zscaling))\n",
    "\n",
    "x_min, x_max = np.min(pos[:, 0]), np.max(pos[:, 0])\n",
    "y_min, y_max = np.min(pos[:, 1]), np.max(pos[:, 1])\n",
    "z_min, z_max = np.min(pos[:, 2]), np.max(pos[:, 2])"
   ]
  },
  {
   "cell_type": "code",
   "execution_count": null,
   "metadata": {},
   "outputs": [],
   "source": [
    "grid.shape"
   ]
  },
  {
   "cell_type": "code",
   "execution_count": null,
   "metadata": {},
   "outputs": [],
   "source": [
    "arm_image.shape"
   ]
  },
  {
   "cell_type": "code",
   "execution_count": null,
   "metadata": {},
   "outputs": [],
   "source": [
    "# Plot a slice of the source estimate\n",
    "z = 10\n",
    "\n",
    "# Display the source estimate and an arm for reference\n",
    "plt.figure(figsize=(12, 6))\n",
    "\n",
    "# Load arm MRI file\n",
    "ds = pydicom.read_file('/Users/pokhims/Library/CloudStorage/OneDrive-TheUniversityofMelbourne/Documents/Coding/CMU_EMGSL/Data/R_Forearm.dcm')\n",
    "arm_image = ds.pixel_array\n",
    "\n",
    "plt.subplot(121) \n",
    "plt.imshow(arm_image[z*arm_image.shape[0]//grid.shape[2], 100:500 , 330:670 , 2], extent=[y_min, y_max, x_min, x_max], cmap='gray', origin='upper')\n",
    "plt.title('MRI for visualisation of orientation only'), plt.axis('on')\n",
    "print('MRI for visualisation, does not represent patient nor model arm and needs to be flipped betwen left and right arm.')\n",
    "plt.scatter(electrode_pos[:, 0], electrode_pos[:, 1], c=waveform[:,t], cmap='turbo', marker='o',)\n",
    "plt.colorbar(label='Electrode Activity')\n",
    "plt.xlabel('X Axis (m)'), plt.ylabel('Y Axis (m)')\n",
    "\n",
    "plt.subplot(122)\n",
    "plt.imshow(grid[:,:,z], extent=[y_min, y_max, x_min, x_max], origin='upper', cmap='viridis')\n",
    "plt.colorbar(label='Source Activity')\n",
    "plt.scatter(electrode_pos[:, 0], electrode_pos[:, 1], c=waveform[:,t], cmap='turbo',marker='o',)\n",
    "plt.xlabel('X Axis (m)'), plt.ylabel('Y Axis (m)')\n",
    "\n",
    "plt.title('Source Estimate'), plt.axis('on')\n",
    "plt.show()"
   ]
  },
  {
   "cell_type": "code",
   "execution_count": 42,
   "metadata": {},
   "outputs": [],
   "source": [
    "# Plot all the slices\n",
    "# This is hard to use when there are too many slices!  May need to change the matplotlib viewer if too many slices\n",
    "# %matplotlib inline\n",
    "\n",
    "num_slices = grid.shape[2]\n",
    "\n",
    "# Create subplots\n",
    "fig, axes = plt.subplots(num_slices, 1, figsize=(8, 200))\n",
    "\n",
    "# Plot each slice\n",
    "for z in range(num_slices):\n",
    "    # Plot activity\n",
    "    axes[z].imshow(grid[:,:,z], extent=[y_min, y_max, x_min, x_max], origin='upper', cmap='viridis', vmin=0, vmax=np.nanmax(grid) )\n",
    "    # Plot electrode position\n",
    "    axes[z].scatter(electrode_pos[:, 0], electrode_pos[:, 1], c=waveform[:,t], cmap='turbo', marker='o')\n",
    "    axes[z].set_title(f'{int(1000*z*zscaling)}mm')\n",
    "    axes[z].axis('off')\n",
    "\n",
    "# fig.colorbar(axes[0].imshow(labels[:, :, 0], cmap='viridis'), ax=axes, orientation='vertical')\n",
    "\n",
    "# Display the plot\n",
    "# plt.tight_layout()\n",
    "plt.show()"
   ]
  },
  {
   "cell_type": "code",
   "execution_count": 43,
   "metadata": {},
   "outputs": [],
   "source": [
    "# # If want to do 3D animated plot\n",
    "\n",
    "# def update_plot(i, data, scat, ):\n",
    "#     scat.set_array(data[i])\n",
    "#     ax.set_title(f'Timepoint {i}')\n",
    "#     return scat,\n",
    "\n",
    "# numframes = muaps.shape[1]\n",
    "# colour_data = muaps.T\n",
    "# pos_move = pos[best_index,:]\n",
    "\n",
    "# # Plot 3D image of electrode positions and select dipole positions\n",
    "\n",
    "# fig = plt.figure(figsize=(10, 10))\n",
    "# ax = fig.add_subplot(111, projection='3d')\n",
    "\n",
    "# # Plot the electrode positions\n",
    "# p = ax.scatter(electrode_pos[:, 0], electrode_pos[:, 1], electrode_pos[:, 2], c=muaps[:,0], marker='o', ) #vmin=muaps.min(), vmax=muaps.max())\n",
    "# # fig.colorbar(p, ax=ax)\n",
    "# # Colourbar and vmin and vmax may not be useful as only one electrode may seem to change colour\n",
    "# # p2 = ax.scatter(pos[best_index[:],0], pos[best_index[:],1], pos[best_index[:],2], c='r', marker='x', s=50, )\n",
    "\n",
    "# # Set labels\n",
    "# ax.set_xlabel('X (m)')\n",
    "# ax.set_ylabel('Y (m)')\n",
    "# ax.set_zlabel('Z (m)')\n",
    "\n",
    "# ani = animation.FuncAnimation(fig, update_plot, frames=range(numframes),\n",
    "#                                 fargs=(colour_data, p, ))\n",
    "# plt.show()"
   ]
  }
 ],
 "metadata": {
  "kernelspec": {
   "display_name": "Python 3",
   "language": "python",
   "name": "python3"
  },
  "language_info": {
   "codemirror_mode": {
    "name": "ipython",
    "version": 3
   },
   "file_extension": ".py",
   "mimetype": "text/x-python",
   "name": "python",
   "nbconvert_exporter": "python",
   "pygments_lexer": "ipython3",
   "version": "3.11.5"
  }
 },
 "nbformat": 4,
 "nbformat_minor": 2
}
